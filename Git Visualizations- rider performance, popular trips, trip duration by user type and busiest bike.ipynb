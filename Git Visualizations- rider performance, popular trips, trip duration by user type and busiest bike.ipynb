{
 "cells": [
  {
   "cell_type": "markdown",
   "metadata": {},
   "source": [
    "# Visualizations"
   ]
  },
  {
   "cell_type": "markdown",
   "metadata": {},
   "source": [
    "This notebook contains the visuals for the most popular trips, rider performance by age, gender, trip duration by user type and the busiest bike in NYC"
   ]
  },
  {
   "cell_type": "code",
   "execution_count": 1,
   "metadata": {},
   "outputs": [],
   "source": [
    "#import required packages\n",
    "import pymysql\n",
    "import pandas as pd\n",
    "import numpy as np\n",
    "import seaborn as sns\n",
    "import matplotlib.pyplot as plt\n",
    "%matplotlib inline"
   ]
  },
  {
   "cell_type": "code",
   "execution_count": 2,
   "metadata": {},
   "outputs": [],
   "source": [
    "#establish connection with the database\n",
    "db= pymysql.connect(host=\"localhost\",user=\"\",password=\"\",db=\"citibike\")"
   ]
  },
  {
   "cell_type": "markdown",
   "metadata": {},
   "source": [
    "For the following analysis, I have cleaned up the data in MySQL to remove duplicates, records marked as \"Do Not Use\", and rows with 0 for latitudes and longitudes"
   ]
  },
  {
   "cell_type": "markdown",
   "metadata": {},
   "source": [
    "# Most popular trips based on start station and stop station"
   ]
  },
  {
   "cell_type": "markdown",
   "metadata": {},
   "source": [
    "In this section I have analyzed the most popular trips based on start and stop stations"
   ]
  },
  {
   "cell_type": "code",
   "execution_count": 148,
   "metadata": {},
   "outputs": [],
   "source": [
    "#query for jan start, end stations and the number of trips\n",
    "sql1=\"select start_station_name, end_station_name, count(*) as number_of_trips \\\n",
    "from 2017_jan2 group by start_station_name, end_station_name order by count(*) desc;\"\n",
    "jan_pop_trips=pd.read_sql(sql1, db)#store in a dataframe\n",
    "\n",
    "#query for feb start, end stations and the number of trips\n",
    "sql2=\"select start_station_name, end_station_name, count(*) as number_of_trips \\\n",
    "from 2017_feb2 group by start_station_name, end_station_name order by count(*) desc;\"\n",
    "feb_pop_trips=pd.read_sql(sql2, db)#store in a dataframe\n",
    "\n",
    "#query for mar start, end stations and the number of trips\n",
    "sql3=\"select start_station_name, end_station_name, count(*) as number_of_trips \\\n",
    "from 2017_mar2 group by start_station_name, end_station_name order by count(*) desc;\"\n",
    "mar_pop_trips=pd.read_sql(sql3, db)#store in a dataframe\n",
    "\n",
    "#query for apr start, end stations and the number of trips\n",
    "sql4=\"select start_station_name, end_station_name, count(*) as number_of_trips \\\n",
    "from 2017_apr2 group by start_station_name, end_station_name order by count(*) desc;\"\n",
    "apr_pop_trips=pd.read_sql(sql4, db)#store in a dataframe\n",
    "\n",
    "#query for may start, end stations and the number of trips\n",
    "sql5=\"select start_station_name, end_station_name, count(*) as number_of_trips \\\n",
    "from 2017_may2 group by start_station_name, end_station_name order by count(*) desc;\"\n",
    "may_pop_trips=pd.read_sql(sql5, db)#store in a dataframe\n",
    "\n",
    "#query for jun start, end stations and the number of trips\n",
    "sql6=\"select start_station_name, end_station_name, count(*) as number_of_trips \\\n",
    "from 2017_jun2 group by start_station_name, end_station_name order by count(*) desc;\"\n",
    "jun_pop_trips=pd.read_sql(sql6, db)#store in a dataframe\n",
    "\n",
    "#query for jul start, end stations and the number of trips\n",
    "sql7=\"select start_station_name, end_station_name, count(*) as number_of_trips \\\n",
    "from 2017_jul2 group by start_station_name, end_station_name order by count(*) desc;\"\n",
    "jul_pop_trips=pd.read_sql(sql7, db)#store in a dataframe\n",
    "\n",
    "#query for aug start, end stations and the number of trips\n",
    "sql8=\"select start_station_name, end_station_name, count(*) as number_of_trips \\\n",
    "from 2017_aug2 group by start_station_name, end_station_name order by count(*) desc;\"\n",
    "aug_pop_trips=pd.read_sql(sql8, db)#store in a dataframe\n",
    "\n",
    "#query for sep start, end stations and the number of trips\n",
    "sql9=\"select start_station_name, end_station_name, count(*) as number_of_trips \\\n",
    "from 2017_sep2 group by start_station_name, end_station_name order by count(*) desc;\"\n",
    "sep_pop_trips=pd.read_sql(sql9, db)#store in a dataframe\n",
    "\n",
    "#query for oct start, end stations and the number of trips\n",
    "sql10=\"select start_station_name, end_station_name, count(*) as number_of_trips \\\n",
    "from 2017_oct2 group by start_station_name, end_station_name order by count(*) desc;\"\n",
    "oct_pop_trips=pd.read_sql(sql10, db)#store in a dataframe\n",
    "\n",
    "#query for nov start, end stations and the number of trips\n",
    "sql11=\"select start_station_name, end_station_name, count(*) as number_of_trips \\\n",
    "from 2017_nov2 group by start_station_name, end_station_name order by count(*) desc;\"\n",
    "nov_pop_trips=pd.read_sql(sql11, db)#store in a dataframe\n",
    "\n",
    "#query for dec start, end stations and the number of trips\n",
    "sql12=\"select start_station_name, end_station_name, count(*) as number_of_trips \\\n",
    "from 2017_dec2 group by start_station_name, end_station_name order by count(*) desc;\"\n",
    "dec_pop_trips=pd.read_sql(sql12, db)#store in a dataframe\n"
   ]
  },
  {
   "cell_type": "code",
   "execution_count": 149,
   "metadata": {},
   "outputs": [
    {
     "data": {
      "text/html": [
       "<div>\n",
       "<style scoped>\n",
       "    .dataframe tbody tr th:only-of-type {\n",
       "        vertical-align: middle;\n",
       "    }\n",
       "\n",
       "    .dataframe tbody tr th {\n",
       "        vertical-align: top;\n",
       "    }\n",
       "\n",
       "    .dataframe thead th {\n",
       "        text-align: right;\n",
       "    }\n",
       "</style>\n",
       "<table border=\"1\" class=\"dataframe\">\n",
       "  <thead>\n",
       "    <tr style=\"text-align: right;\">\n",
       "      <th></th>\n",
       "      <th>start_station_name</th>\n",
       "      <th>end_station_name</th>\n",
       "      <th>number_of_trips</th>\n",
       "    </tr>\n",
       "  </thead>\n",
       "  <tbody>\n",
       "    <tr>\n",
       "      <th>0</th>\n",
       "      <td>E 7 St &amp; Avenue A</td>\n",
       "      <td>Cooper Square &amp; E 7 St</td>\n",
       "      <td>440</td>\n",
       "    </tr>\n",
       "    <tr>\n",
       "      <th>1</th>\n",
       "      <td>W 21 St &amp; 6 Ave</td>\n",
       "      <td>9 Ave &amp; W 22 St</td>\n",
       "      <td>367</td>\n",
       "    </tr>\n",
       "    <tr>\n",
       "      <th>2</th>\n",
       "      <td>E 33 St &amp; 2 Ave</td>\n",
       "      <td>W 33 St &amp; 7 Ave</td>\n",
       "      <td>318</td>\n",
       "    </tr>\n",
       "    <tr>\n",
       "      <th>3</th>\n",
       "      <td>Pershing Square North</td>\n",
       "      <td>E 24 St &amp; Park Ave S</td>\n",
       "      <td>305</td>\n",
       "    </tr>\n",
       "    <tr>\n",
       "      <th>4</th>\n",
       "      <td>N 6 St &amp; Bedford Ave</td>\n",
       "      <td>Wythe Ave &amp; Metropolitan Ave</td>\n",
       "      <td>295</td>\n",
       "    </tr>\n",
       "  </tbody>\n",
       "</table>\n",
       "</div>"
      ],
      "text/plain": [
       "      start_station_name              end_station_name  number_of_trips\n",
       "0      E 7 St & Avenue A        Cooper Square & E 7 St              440\n",
       "1        W 21 St & 6 Ave               9 Ave & W 22 St              367\n",
       "2        E 33 St & 2 Ave               W 33 St & 7 Ave              318\n",
       "3  Pershing Square North          E 24 St & Park Ave S              305\n",
       "4   N 6 St & Bedford Ave  Wythe Ave & Metropolitan Ave              295"
      ]
     },
     "execution_count": 149,
     "metadata": {},
     "output_type": "execute_result"
    }
   ],
   "source": [
    "#concatenate all months popular trips into a sincgle dataframe\n",
    "months_pop_trips=pd.concat([jan_pop_trips,feb_pop_trips,mar_pop_trips,apr_pop_trips,may_pop_trips,jun_pop_trips,\\\n",
    "                          jul_pop_trips,aug_pop_trips,sep_pop_trips,oct_pop_trips,nov_pop_trips,dec_pop_trips],ignore_index=True)\n",
    "months_pop_trips.head()#check the first few rows"
   ]
  },
  {
   "cell_type": "code",
   "execution_count": 151,
   "metadata": {},
   "outputs": [
    {
     "data": {
      "text/html": [
       "<div>\n",
       "<style scoped>\n",
       "    .dataframe tbody tr th:only-of-type {\n",
       "        vertical-align: middle;\n",
       "    }\n",
       "\n",
       "    .dataframe tbody tr th {\n",
       "        vertical-align: top;\n",
       "    }\n",
       "\n",
       "    .dataframe thead th {\n",
       "        text-align: right;\n",
       "    }\n",
       "</style>\n",
       "<table border=\"1\" class=\"dataframe\">\n",
       "  <thead>\n",
       "    <tr style=\"text-align: right;\">\n",
       "      <th></th>\n",
       "      <th>start_station_name</th>\n",
       "      <th>end_station_name</th>\n",
       "      <th>number_of_trips</th>\n",
       "    </tr>\n",
       "  </thead>\n",
       "  <tbody>\n",
       "    <tr>\n",
       "      <th>219323</th>\n",
       "      <td>Pershing Square North</td>\n",
       "      <td>Pershing Square North</td>\n",
       "      <td>16129</td>\n",
       "    </tr>\n",
       "    <tr>\n",
       "      <th>296067</th>\n",
       "      <td>West St &amp; Chambers St</td>\n",
       "      <td>West St &amp; Chambers St</td>\n",
       "      <td>14884</td>\n",
       "    </tr>\n",
       "    <tr>\n",
       "      <th>108950</th>\n",
       "      <td>E 17 St &amp; Broadway</td>\n",
       "      <td>E 17 St &amp; Broadway</td>\n",
       "      <td>12736</td>\n",
       "    </tr>\n",
       "    <tr>\n",
       "      <th>7186</th>\n",
       "      <td>12 Ave &amp; W 40 St</td>\n",
       "      <td>12 Ave &amp; W 40 St</td>\n",
       "      <td>11848</td>\n",
       "    </tr>\n",
       "    <tr>\n",
       "      <th>53756</th>\n",
       "      <td>Broadway &amp; E 22 St</td>\n",
       "      <td>Broadway &amp; E 22 St</td>\n",
       "      <td>11522</td>\n",
       "    </tr>\n",
       "  </tbody>\n",
       "</table>\n",
       "</div>"
      ],
      "text/plain": [
       "           start_station_name       end_station_name  number_of_trips\n",
       "219323  Pershing Square North  Pershing Square North            16129\n",
       "296067  West St & Chambers St  West St & Chambers St            14884\n",
       "108950     E 17 St & Broadway     E 17 St & Broadway            12736\n",
       "7186         12 Ave & W 40 St       12 Ave & W 40 St            11848\n",
       "53756      Broadway & E 22 St     Broadway & E 22 St            11522"
      ]
     },
     "execution_count": 151,
     "metadata": {},
     "output_type": "execute_result"
    }
   ],
   "source": [
    "#groupby the start stations across months and sum the number of trips\n",
    "months_pop_trips1=months_pop_trips.groupby(['start_station_name','end_station_name']).sum()\n",
    "months_pop_trips1.reset_index(inplace=True)#reset index\n",
    "pop_trips=(months_pop_trips1.sort_values(by='number_of_trips',ascending=False)).head(5) #top 5 most popular trips\n",
    "pop_trips#dataframe with the most popular trips"
   ]
  },
  {
   "cell_type": "code",
   "execution_count": 154,
   "metadata": {},
   "outputs": [
    {
     "data": {
      "text/html": [
       "<div>\n",
       "<style scoped>\n",
       "    .dataframe tbody tr th:only-of-type {\n",
       "        vertical-align: middle;\n",
       "    }\n",
       "\n",
       "    .dataframe tbody tr th {\n",
       "        vertical-align: top;\n",
       "    }\n",
       "\n",
       "    .dataframe thead th {\n",
       "        text-align: right;\n",
       "    }\n",
       "</style>\n",
       "<table border=\"1\" class=\"dataframe\">\n",
       "  <thead>\n",
       "    <tr style=\"text-align: right;\">\n",
       "      <th></th>\n",
       "      <th>start_station_name</th>\n",
       "      <th>end_station_name</th>\n",
       "      <th>number_of_trips</th>\n",
       "      <th>Trip</th>\n",
       "    </tr>\n",
       "  </thead>\n",
       "  <tbody>\n",
       "    <tr>\n",
       "      <th>219323</th>\n",
       "      <td>Pershing Square North</td>\n",
       "      <td>Pershing Square North</td>\n",
       "      <td>16129</td>\n",
       "      <td>Pershing Square North to Pershing Square North</td>\n",
       "    </tr>\n",
       "    <tr>\n",
       "      <th>296067</th>\n",
       "      <td>West St &amp; Chambers St</td>\n",
       "      <td>West St &amp; Chambers St</td>\n",
       "      <td>14884</td>\n",
       "      <td>West St &amp; Chambers St to West St &amp; Chambers St</td>\n",
       "    </tr>\n",
       "    <tr>\n",
       "      <th>108950</th>\n",
       "      <td>E 17 St &amp; Broadway</td>\n",
       "      <td>E 17 St &amp; Broadway</td>\n",
       "      <td>12736</td>\n",
       "      <td>E 17 St &amp; Broadway to E 17 St &amp; Broadway</td>\n",
       "    </tr>\n",
       "    <tr>\n",
       "      <th>7186</th>\n",
       "      <td>12 Ave &amp; W 40 St</td>\n",
       "      <td>12 Ave &amp; W 40 St</td>\n",
       "      <td>11848</td>\n",
       "      <td>12 Ave &amp; W 40 St to 12 Ave &amp; W 40 St</td>\n",
       "    </tr>\n",
       "    <tr>\n",
       "      <th>53756</th>\n",
       "      <td>Broadway &amp; E 22 St</td>\n",
       "      <td>Broadway &amp; E 22 St</td>\n",
       "      <td>11522</td>\n",
       "      <td>Broadway &amp; E 22 St to Broadway &amp; E 22 St</td>\n",
       "    </tr>\n",
       "  </tbody>\n",
       "</table>\n",
       "</div>"
      ],
      "text/plain": [
       "           start_station_name       end_station_name  number_of_trips  \\\n",
       "219323  Pershing Square North  Pershing Square North            16129   \n",
       "296067  West St & Chambers St  West St & Chambers St            14884   \n",
       "108950     E 17 St & Broadway     E 17 St & Broadway            12736   \n",
       "7186         12 Ave & W 40 St       12 Ave & W 40 St            11848   \n",
       "53756      Broadway & E 22 St     Broadway & E 22 St            11522   \n",
       "\n",
       "                                                  Trip  \n",
       "219323  Pershing Square North to Pershing Square North  \n",
       "296067  West St & Chambers St to West St & Chambers St  \n",
       "108950        E 17 St & Broadway to E 17 St & Broadway  \n",
       "7186              12 Ave & W 40 St to 12 Ave & W 40 St  \n",
       "53756         Broadway & E 22 St to Broadway & E 22 St  "
      ]
     },
     "execution_count": 154,
     "metadata": {},
     "output_type": "execute_result"
    }
   ],
   "source": [
    "#create new column merging the start and stop stations\n",
    "pop_trips['Trip'] = pop_trips['start_station_name'] + ' to '+ pop_trips['end_station_name']\n",
    "pop_trips"
   ]
  },
  {
   "cell_type": "code",
   "execution_count": 162,
   "metadata": {},
   "outputs": [
    {
     "data": {
      "text/plain": [
       "Text(0,0.5,'Number of Trips')"
      ]
     },
     "execution_count": 162,
     "metadata": {},
     "output_type": "execute_result"
    },
    {
     "data": {
      "image/png": "[encoded data removed]",
      "text/plain": [
       "<matplotlib.figure.Figure at 0x1b7c073fd0>"
      ]
     },
     "metadata": {},
     "output_type": "display_data"
    }
   ],
   "source": [
    "#plot most popular trips based on start and stop stations and the total number \n",
    "# figure size in inches\n",
    "rcParams['figure.figsize'] = 15.7,7.27\n",
    "p=pop_trips.plot( kind= 'bar', x='Trip',y='number_of_trips',legend=False)#plot\n",
    "p.set_title('Popular Trips',fontsize=20)\n",
    "p.set_xlabel(\"Route\",fontsize=20)\n",
    "p.set_ylabel(\"Number of Trips\",fontsize=20)"
   ]
  },
  {
   "cell_type": "markdown",
   "metadata": {},
   "source": [
    "# Rider Performance by Gender, Age based on trip duration and speed"
   ]
  },
  {
   "cell_type": "markdown",
   "metadata": {},
   "source": [
    "In this section, I have analyzed the users performance based on average trip distance and median speed, by gender and age"
   ]
  },
  {
   "cell_type": "code",
   "execution_count": 4,
   "metadata": {},
   "outputs": [],
   "source": [
    "#get data for jan and store it in a dataframe\n",
    "sql37=\"SELECT tripduration, start_station_name, end_station_name, gender, birthyear,\\\n",
    "(3959*acos(cos(radians(start_station_latitude))*cos(radians(end_station_latitude))\\\n",
    "*cos(radians(start_station_longitude)-radians(end_station_longitude))+sin(radians(start_station_latitude))\\\n",
    "*sin(radians(end_station_latitude)))) AS distance from 2017_jan2;\"\n",
    "jan_rider_perf=pd.read_sql(sql37,db) #store data in the dataframe\n",
    "\n",
    "#get data for feb and store it in a dataframe\n",
    "sql38=\"SELECT tripduration, start_station_name, end_station_name, gender, birthyear,\\\n",
    "(3959*acos(cos(radians(start_station_latitude))*cos(radians(end_station_latitude))\\\n",
    "*cos(radians(start_station_longitude)-radians(end_station_longitude))+sin(radians(start_station_latitude))\\\n",
    "*sin(radians(end_station_latitude)))) AS distance from 2017_feb2;\"\n",
    "feb_rider_perf=pd.read_sql(sql38,db)#store data in the dataframe\n",
    "\n",
    "#get data for mar and store it in a dataframe\n",
    "sql39=\"SELECT tripduration, start_station_name, end_station_name, gender, birthyear,\\\n",
    "(3959*acos(cos(radians(start_station_latitude))*cos(radians(end_station_latitude))\\\n",
    "*cos(radians(start_station_longitude)-radians(end_station_longitude))+sin(radians(start_station_latitude))\\\n",
    "*sin(radians(end_station_latitude)))) AS distance from 2017_mar2;\"\n",
    "mar_rider_perf=pd.read_sql(sql39,db)#store data in the dataframe\n",
    "\n",
    "#get data for mar and store it in a dataframe\n",
    "sql40=\"SELECT tripduration, start_station_name, end_station_name, gender, birth_year,\\\n",
    "(3959*acos(cos(radians(start_station_latitude))*cos(radians(end_station_latitude))\\\n",
    "*cos(radians(start_station_longitude)-radians(end_station_longitude))+sin(radians(start_station_latitude))\\\n",
    "*sin(radians(end_station_latitude)))) AS distance from 2017_apr2;\"\n",
    "apr_rider_perf=pd.read_sql(sql40,db)#store data in the dataframe\n",
    "\n",
    "#get data for may and store it in a dataframe\n",
    "sql41=\"SELECT tripduration, start_station_name, end_station_name, gender, birth_year,\\\n",
    "(3959*acos(cos(radians(start_station_latitude))*cos(radians(end_station_latitude))\\\n",
    "*cos(radians(start_station_longitude)-radians(end_station_longitude))+sin(radians(start_station_latitude))\\\n",
    "*sin(radians(end_station_latitude)))) AS distance from 2017_may2;\"\n",
    "may_rider_perf=pd.read_sql(sql41,db)#store data in the dataframe\n",
    "\n",
    "#get data for jun and store it in a dataframe\n",
    "sql42=\"SELECT tripduration, start_station_name, end_station_name, gender, birth_year,\\\n",
    "(3959*acos(cos(radians(start_station_latitude))*cos(radians(end_station_latitude))\\\n",
    "*cos(radians(start_station_longitude)-radians(end_station_longitude))+sin(radians(start_station_latitude))\\\n",
    "*sin(radians(end_station_latitude)))) AS distance from 2017_jun2;\"\n",
    "jun_rider_perf=pd.read_sql(sql42,db)#store data in the dataframe\n",
    "\n",
    "#get data for jul and store it in a dataframe\n",
    "sql43=\"SELECT tripduration, start_station_name, end_station_name, gender, birth_year,\\\n",
    "(3959*acos(cos(radians(start_station_latitude))*cos(radians(end_station_latitude))\\\n",
    "*cos(radians(start_station_longitude)-radians(end_station_longitude))+sin(radians(start_station_latitude))\\\n",
    "*sin(radians(end_station_latitude)))) AS distance from 2017_jul2;\"\n",
    "jul_rider_perf=pd.read_sql(sql43,db)#store data in the dataframe\n",
    "\n",
    "#get data for aug and store it in a dataframe\n",
    "sql44=\"SELECT tripduration, start_station_name, end_station_name, gender, birth_year,\\\n",
    "(3959*acos(cos(radians(start_station_latitude))*cos(radians(end_station_latitude))\\\n",
    "*cos(radians(start_station_longitude)-radians(end_station_longitude))+sin(radians(start_station_latitude))\\\n",
    "*sin(radians(end_station_latitude)))) AS distance from 2017_aug2;\"\n",
    "aug_rider_perf=pd.read_sql(sql44,db)#store data in the dataframe\n",
    "\n",
    "#get data for sep and store it in a dataframe\n",
    "sql45=\"SELECT tripduration, start_station_name, end_station_name, gender, birth_year,\\\n",
    "(3959*acos(cos(radians(start_station_latitude))*cos(radians(end_station_latitude))\\\n",
    "*cos(radians(start_station_longitude)-radians(end_station_longitude))+sin(radians(start_station_latitude))\\\n",
    "*sin(radians(end_station_latitude)))) AS distance from 2017_sep2;\"\n",
    "sep_rider_perf=pd.read_sql(sql45,db)#store data in the dataframe\n",
    "\n",
    "#get data for oct and store it in a dataframe\n",
    "sql46=\"SELECT tripduration, start_station_name, end_station_name, gender, birth_year,\\\n",
    "(3959*acos(cos(radians(start_station_latitude))*cos(radians(end_station_latitude))\\\n",
    "*cos(radians(start_station_longitude)-radians(end_station_longitude))+sin(radians(start_station_latitude))\\\n",
    "*sin(radians(end_station_latitude)))) AS distance from 2017_oct2;\"\n",
    "oct_rider_perf=pd.read_sql(sql46,db)#store data in the dataframe\n",
    "\n",
    "#get data for nov and store it in a dataframe\n",
    "sql47=\"SELECT tripduration, start_station_name, end_station_name, gender, birth_year,\\\n",
    "(3959*acos(cos(radians(start_station_latitude))*cos(radians(end_station_latitude))\\\n",
    "*cos(radians(start_station_longitude)-radians(end_station_longitude))+sin(radians(start_station_latitude))\\\n",
    "*sin(radians(end_station_latitude)))) AS distance from 2017_nov2;\"\n",
    "nov_rider_perf=pd.read_sql(sql47,db)#store data in the dataframe\n",
    "\n",
    "#get data for dec and store it in a dataframe\n",
    "sql48=\"SELECT tripduration, start_station_name, end_station_name, gender, birth_year,\\\n",
    "(3959*acos(cos(radians(start_station_latitude))*cos(radians(end_station_latitude))\\\n",
    "*cos(radians(start_station_longitude)-radians(end_station_longitude))+sin(radians(start_station_latitude))\\\n",
    "*sin(radians(end_station_latitude)))) AS distance from 2017_dec2;\"\n",
    "dec_rider_perf=pd.read_sql(sql48,db)#store data in the dataframe"
   ]
  },
  {
   "cell_type": "code",
   "execution_count": 16,
   "metadata": {},
   "outputs": [],
   "source": [
    "#rename jan, feb, marc birthyear to birth_year\n",
    "jan_rider_perf.rename(columns={'birthyear': 'birth_year'}, inplace=True)\n",
    "feb_rider_perf.rename(columns={'birthyear': 'birth_year'}, inplace=True)\n",
    "mar_rider_perf.rename(columns={'birthyear': 'birth_year'}, inplace=True)"
   ]
  },
  {
   "cell_type": "code",
   "execution_count": 17,
   "metadata": {},
   "outputs": [],
   "source": [
    "#concatenate all dataframes into a single dataframe\n",
    "rider_months=pd.concat([jan_rider_perf,feb_rider_perf,mar_rider_perf,apr_rider_perf,may_rider_perf,\\\n",
    "                       jun_rider_perf,jul_rider_perf,aug_rider_perf,sep_rider_perf,oct_rider_perf,\\\n",
    "                       nov_rider_perf,dec_rider_perf],ignore_index=True)"
   ]
  },
  {
   "cell_type": "code",
   "execution_count": 18,
   "metadata": {},
   "outputs": [
    {
     "data": {
      "text/html": [
       "<div>\n",
       "<style scoped>\n",
       "    .dataframe tbody tr th:only-of-type {\n",
       "        vertical-align: middle;\n",
       "    }\n",
       "\n",
       "    .dataframe tbody tr th {\n",
       "        vertical-align: top;\n",
       "    }\n",
       "\n",
       "    .dataframe thead th {\n",
       "        text-align: right;\n",
       "    }\n",
       "</style>\n",
       "<table border=\"1\" class=\"dataframe\">\n",
       "  <thead>\n",
       "    <tr style=\"text-align: right;\">\n",
       "      <th></th>\n",
       "      <th>tripduration</th>\n",
       "      <th>start_station_name</th>\n",
       "      <th>end_station_name</th>\n",
       "      <th>gender</th>\n",
       "      <th>birth_year</th>\n",
       "      <th>distance</th>\n",
       "    </tr>\n",
       "  </thead>\n",
       "  <tbody>\n",
       "    <tr>\n",
       "      <th>0</th>\n",
       "      <td>680</td>\n",
       "      <td>W 82 St &amp; Central Park West</td>\n",
       "      <td>Central Park West &amp; W 72 St</td>\n",
       "      <td>2</td>\n",
       "      <td>1965</td>\n",
       "      <td>0.543187</td>\n",
       "    </tr>\n",
       "    <tr>\n",
       "      <th>1</th>\n",
       "      <td>1282</td>\n",
       "      <td>Cooper Square &amp; E 7 St</td>\n",
       "      <td>Broadway &amp; W 32 St</td>\n",
       "      <td>2</td>\n",
       "      <td>1987</td>\n",
       "      <td>1.342357</td>\n",
       "    </tr>\n",
       "    <tr>\n",
       "      <th>2</th>\n",
       "      <td>648</td>\n",
       "      <td>5 Ave &amp; E 78 St</td>\n",
       "      <td>3 Ave &amp; E 71 St</td>\n",
       "      <td>0</td>\n",
       "      <td></td>\n",
       "      <td>0.576545</td>\n",
       "    </tr>\n",
       "    <tr>\n",
       "      <th>3</th>\n",
       "      <td>631</td>\n",
       "      <td>5 Ave &amp; E 78 St</td>\n",
       "      <td>3 Ave &amp; E 71 St</td>\n",
       "      <td>0</td>\n",
       "      <td></td>\n",
       "      <td>0.576545</td>\n",
       "    </tr>\n",
       "    <tr>\n",
       "      <th>4</th>\n",
       "      <td>621</td>\n",
       "      <td>5 Ave &amp; E 78 St</td>\n",
       "      <td>3 Ave &amp; E 71 St</td>\n",
       "      <td>0</td>\n",
       "      <td></td>\n",
       "      <td>0.576545</td>\n",
       "    </tr>\n",
       "  </tbody>\n",
       "</table>\n",
       "</div>"
      ],
      "text/plain": [
       "   tripduration           start_station_name             end_station_name  \\\n",
       "0           680  W 82 St & Central Park West  Central Park West & W 72 St   \n",
       "1          1282       Cooper Square & E 7 St           Broadway & W 32 St   \n",
       "2           648              5 Ave & E 78 St              3 Ave & E 71 St   \n",
       "3           631              5 Ave & E 78 St              3 Ave & E 71 St   \n",
       "4           621              5 Ave & E 78 St              3 Ave & E 71 St   \n",
       "\n",
       "   gender birth_year  distance  \n",
       "0       2       1965  0.543187  \n",
       "1       2       1987  1.342357  \n",
       "2       0             0.576545  \n",
       "3       0             0.576545  \n",
       "4       0             0.576545  "
      ]
     },
     "execution_count": 18,
     "metadata": {},
     "output_type": "execute_result"
    }
   ],
   "source": [
    "#first few rows\n",
    "rider_months.head()"
   ]
  },
  {
   "cell_type": "code",
   "execution_count": 19,
   "metadata": {},
   "outputs": [],
   "source": [
    "#replace missing birth year with 0\n",
    "rider_months.replace(to_replace='',value=0,inplace=True)"
   ]
  },
  {
   "cell_type": "code",
   "execution_count": 20,
   "metadata": {},
   "outputs": [
    {
     "data": {
      "text/html": [
       "<div>\n",
       "<style scoped>\n",
       "    .dataframe tbody tr th:only-of-type {\n",
       "        vertical-align: middle;\n",
       "    }\n",
       "\n",
       "    .dataframe tbody tr th {\n",
       "        vertical-align: top;\n",
       "    }\n",
       "\n",
       "    .dataframe thead th {\n",
       "        text-align: right;\n",
       "    }\n",
       "</style>\n",
       "<table border=\"1\" class=\"dataframe\">\n",
       "  <thead>\n",
       "    <tr style=\"text-align: right;\">\n",
       "      <th></th>\n",
       "      <th>tripduration</th>\n",
       "      <th>start_station_name</th>\n",
       "      <th>end_station_name</th>\n",
       "      <th>gender</th>\n",
       "      <th>birth_year</th>\n",
       "      <th>distance</th>\n",
       "    </tr>\n",
       "  </thead>\n",
       "  <tbody>\n",
       "    <tr>\n",
       "      <th>0</th>\n",
       "      <td>680</td>\n",
       "      <td>W 82 St &amp; Central Park West</td>\n",
       "      <td>Central Park West &amp; W 72 St</td>\n",
       "      <td>2</td>\n",
       "      <td>1965</td>\n",
       "      <td>0.543187</td>\n",
       "    </tr>\n",
       "    <tr>\n",
       "      <th>1</th>\n",
       "      <td>1282</td>\n",
       "      <td>Cooper Square &amp; E 7 St</td>\n",
       "      <td>Broadway &amp; W 32 St</td>\n",
       "      <td>2</td>\n",
       "      <td>1987</td>\n",
       "      <td>1.342357</td>\n",
       "    </tr>\n",
       "    <tr>\n",
       "      <th>2</th>\n",
       "      <td>648</td>\n",
       "      <td>5 Ave &amp; E 78 St</td>\n",
       "      <td>3 Ave &amp; E 71 St</td>\n",
       "      <td>0</td>\n",
       "      <td>0</td>\n",
       "      <td>0.576545</td>\n",
       "    </tr>\n",
       "    <tr>\n",
       "      <th>3</th>\n",
       "      <td>631</td>\n",
       "      <td>5 Ave &amp; E 78 St</td>\n",
       "      <td>3 Ave &amp; E 71 St</td>\n",
       "      <td>0</td>\n",
       "      <td>0</td>\n",
       "      <td>0.576545</td>\n",
       "    </tr>\n",
       "    <tr>\n",
       "      <th>4</th>\n",
       "      <td>621</td>\n",
       "      <td>5 Ave &amp; E 78 St</td>\n",
       "      <td>3 Ave &amp; E 71 St</td>\n",
       "      <td>0</td>\n",
       "      <td>0</td>\n",
       "      <td>0.576545</td>\n",
       "    </tr>\n",
       "  </tbody>\n",
       "</table>\n",
       "</div>"
      ],
      "text/plain": [
       "   tripduration           start_station_name             end_station_name  \\\n",
       "0           680  W 82 St & Central Park West  Central Park West & W 72 St   \n",
       "1          1282       Cooper Square & E 7 St           Broadway & W 32 St   \n",
       "2           648              5 Ave & E 78 St              3 Ave & E 71 St   \n",
       "3           631              5 Ave & E 78 St              3 Ave & E 71 St   \n",
       "4           621              5 Ave & E 78 St              3 Ave & E 71 St   \n",
       "\n",
       "   gender birth_year  distance  \n",
       "0       2       1965  0.543187  \n",
       "1       2       1987  1.342357  \n",
       "2       0          0  0.576545  \n",
       "3       0          0  0.576545  \n",
       "4       0          0  0.576545  "
      ]
     },
     "execution_count": 20,
     "metadata": {},
     "output_type": "execute_result"
    }
   ],
   "source": [
    "#first few rows\n",
    "rider_months.head()"
   ]
  },
  {
   "cell_type": "code",
   "execution_count": 21,
   "metadata": {},
   "outputs": [
    {
     "data": {
      "text/html": [
       "<div>\n",
       "<style scoped>\n",
       "    .dataframe tbody tr th:only-of-type {\n",
       "        vertical-align: middle;\n",
       "    }\n",
       "\n",
       "    .dataframe tbody tr th {\n",
       "        vertical-align: top;\n",
       "    }\n",
       "\n",
       "    .dataframe thead th {\n",
       "        text-align: right;\n",
       "    }\n",
       "</style>\n",
       "<table border=\"1\" class=\"dataframe\">\n",
       "  <thead>\n",
       "    <tr style=\"text-align: right;\">\n",
       "      <th></th>\n",
       "      <th>tripduration</th>\n",
       "      <th>start_station_name</th>\n",
       "      <th>end_station_name</th>\n",
       "      <th>gender</th>\n",
       "      <th>birth_year</th>\n",
       "      <th>distance</th>\n",
       "    </tr>\n",
       "  </thead>\n",
       "  <tbody>\n",
       "    <tr>\n",
       "      <th>count</th>\n",
       "      <td>1.578586e+07</td>\n",
       "      <td>15785859</td>\n",
       "      <td>15785859</td>\n",
       "      <td>1.578586e+07</td>\n",
       "      <td>15785859</td>\n",
       "      <td>1.578586e+07</td>\n",
       "    </tr>\n",
       "    <tr>\n",
       "      <th>unique</th>\n",
       "      <td>NaN</td>\n",
       "      <td>820</td>\n",
       "      <td>841</td>\n",
       "      <td>NaN</td>\n",
       "      <td>107</td>\n",
       "      <td>NaN</td>\n",
       "    </tr>\n",
       "    <tr>\n",
       "      <th>top</th>\n",
       "      <td>NaN</td>\n",
       "      <td>Pershing Square North</td>\n",
       "      <td>Pershing Square North</td>\n",
       "      <td>NaN</td>\n",
       "      <td>NULL</td>\n",
       "      <td>NaN</td>\n",
       "    </tr>\n",
       "    <tr>\n",
       "      <th>freq</th>\n",
       "      <td>NaN</td>\n",
       "      <td>159598</td>\n",
       "      <td>157488</td>\n",
       "      <td>NaN</td>\n",
       "      <td>1357722</td>\n",
       "      <td>NaN</td>\n",
       "    </tr>\n",
       "    <tr>\n",
       "      <th>mean</th>\n",
       "      <td>9.773416e+02</td>\n",
       "      <td>NaN</td>\n",
       "      <td>NaN</td>\n",
       "      <td>1.129113e+00</td>\n",
       "      <td>NaN</td>\n",
       "      <td>1.153332e+00</td>\n",
       "    </tr>\n",
       "    <tr>\n",
       "      <th>std</th>\n",
       "      <td>1.638785e+04</td>\n",
       "      <td>NaN</td>\n",
       "      <td>NaN</td>\n",
       "      <td>5.571554e-01</td>\n",
       "      <td>NaN</td>\n",
       "      <td>8.716689e-01</td>\n",
       "    </tr>\n",
       "    <tr>\n",
       "      <th>min</th>\n",
       "      <td>6.100000e+01</td>\n",
       "      <td>NaN</td>\n",
       "      <td>NaN</td>\n",
       "      <td>0.000000e+00</td>\n",
       "      <td>NaN</td>\n",
       "      <td>0.000000e+00</td>\n",
       "    </tr>\n",
       "    <tr>\n",
       "      <th>25%</th>\n",
       "      <td>3.720000e+02</td>\n",
       "      <td>NaN</td>\n",
       "      <td>NaN</td>\n",
       "      <td>1.000000e+00</td>\n",
       "      <td>NaN</td>\n",
       "      <td>5.518692e-01</td>\n",
       "    </tr>\n",
       "    <tr>\n",
       "      <th>50%</th>\n",
       "      <td>6.170000e+02</td>\n",
       "      <td>NaN</td>\n",
       "      <td>NaN</td>\n",
       "      <td>1.000000e+00</td>\n",
       "      <td>NaN</td>\n",
       "      <td>8.942758e-01</td>\n",
       "    </tr>\n",
       "    <tr>\n",
       "      <th>75%</th>\n",
       "      <td>1.061000e+03</td>\n",
       "      <td>NaN</td>\n",
       "      <td>NaN</td>\n",
       "      <td>1.000000e+00</td>\n",
       "      <td>NaN</td>\n",
       "      <td>1.480817e+00</td>\n",
       "    </tr>\n",
       "    <tr>\n",
       "      <th>max</th>\n",
       "      <td>9.735948e+06</td>\n",
       "      <td>NaN</td>\n",
       "      <td>NaN</td>\n",
       "      <td>2.000000e+00</td>\n",
       "      <td>NaN</td>\n",
       "      <td>1.093099e+01</td>\n",
       "    </tr>\n",
       "  </tbody>\n",
       "</table>\n",
       "</div>"
      ],
      "text/plain": [
       "        tripduration     start_station_name       end_station_name  \\\n",
       "count   1.578586e+07               15785859               15785859   \n",
       "unique           NaN                    820                    841   \n",
       "top              NaN  Pershing Square North  Pershing Square North   \n",
       "freq             NaN                 159598                 157488   \n",
       "mean    9.773416e+02                    NaN                    NaN   \n",
       "std     1.638785e+04                    NaN                    NaN   \n",
       "min     6.100000e+01                    NaN                    NaN   \n",
       "25%     3.720000e+02                    NaN                    NaN   \n",
       "50%     6.170000e+02                    NaN                    NaN   \n",
       "75%     1.061000e+03                    NaN                    NaN   \n",
       "max     9.735948e+06                    NaN                    NaN   \n",
       "\n",
       "              gender birth_year      distance  \n",
       "count   1.578586e+07   15785859  1.578586e+07  \n",
       "unique           NaN        107           NaN  \n",
       "top              NaN       NULL           NaN  \n",
       "freq             NaN    1357722           NaN  \n",
       "mean    1.129113e+00        NaN  1.153332e+00  \n",
       "std     5.571554e-01        NaN  8.716689e-01  \n",
       "min     0.000000e+00        NaN  0.000000e+00  \n",
       "25%     1.000000e+00        NaN  5.518692e-01  \n",
       "50%     1.000000e+00        NaN  8.942758e-01  \n",
       "75%     1.000000e+00        NaN  1.480817e+00  \n",
       "max     2.000000e+00        NaN  1.093099e+01  "
      ]
     },
     "execution_count": 21,
     "metadata": {},
     "output_type": "execute_result"
    }
   ],
   "source": [
    "#summary of the dataframe\n",
    "rider_months.describe(include='all')"
   ]
  },
  {
   "cell_type": "code",
   "execution_count": 34,
   "metadata": {},
   "outputs": [
    {
     "data": {
      "text/plain": [
       "1    10622427\n",
       "2     3600795\n",
       "0     1562637\n",
       "Name: gender, dtype: int64"
      ]
     },
     "execution_count": 34,
     "metadata": {},
     "output_type": "execute_result"
    }
   ],
   "source": [
    "#counts by gender\n",
    "rider_months['gender'].value_counts()"
   ]
  },
  {
   "cell_type": "code",
   "execution_count": 24,
   "metadata": {},
   "outputs": [],
   "source": [
    "#create  'speed' variable\n",
    "rider_months['speed_mph']=(rider_months['distance']/(rider_months['tripduration']/3600))"
   ]
  },
  {
   "cell_type": "code",
   "execution_count": null,
   "metadata": {},
   "outputs": [],
   "source": [
    "#check row with max speed\n",
    "rider_months.ix[rider_months['speed_mph'].idxmax()]"
   ]
  },
  {
   "cell_type": "code",
   "execution_count": 39,
   "metadata": {},
   "outputs": [
    {
     "data": {
      "text/plain": [
       "15.029685090018752"
      ]
     },
     "execution_count": 39,
     "metadata": {},
     "output_type": "execute_result"
    }
   ],
   "source": [
    "#check extreme values for speed\n",
    "rider_months['speed_mph'].quantile(0.99999)"
   ]
  },
  {
   "cell_type": "code",
   "execution_count": 26,
   "metadata": {},
   "outputs": [
    {
     "data": {
      "text/plain": [
       "166"
      ]
     },
     "execution_count": 26,
     "metadata": {},
     "output_type": "execute_result"
    }
   ],
   "source": [
    "#number of rows with speed >15 mph- 99.999th percentile\n",
    "len(rider_months[rider_months['speed_mph']>15]) #seem like incorrect data, covered over 2 miles in less than a minute"
   ]
  },
  {
   "cell_type": "code",
   "execution_count": 27,
   "metadata": {},
   "outputs": [],
   "source": [
    "#exclude rows with speed>15 because average speed within city limits cannot be >15 mph\n",
    "rider_months2=rider_months[rider_months['speed_mph']<=15]"
   ]
  },
  {
   "cell_type": "code",
   "execution_count": 28,
   "metadata": {},
   "outputs": [
    {
     "data": {
      "text/html": [
       "<div>\n",
       "<style scoped>\n",
       "    .dataframe tbody tr th:only-of-type {\n",
       "        vertical-align: middle;\n",
       "    }\n",
       "\n",
       "    .dataframe tbody tr th {\n",
       "        vertical-align: top;\n",
       "    }\n",
       "\n",
       "    .dataframe thead th {\n",
       "        text-align: right;\n",
       "    }\n",
       "</style>\n",
       "<table border=\"1\" class=\"dataframe\">\n",
       "  <thead>\n",
       "    <tr style=\"text-align: right;\">\n",
       "      <th></th>\n",
       "      <th>tripduration</th>\n",
       "      <th>start_station_name</th>\n",
       "      <th>end_station_name</th>\n",
       "      <th>gender</th>\n",
       "      <th>birth_year</th>\n",
       "      <th>distance</th>\n",
       "      <th>speed_mph</th>\n",
       "    </tr>\n",
       "  </thead>\n",
       "  <tbody>\n",
       "    <tr>\n",
       "      <th>count</th>\n",
       "      <td>1.578569e+07</td>\n",
       "      <td>15785693</td>\n",
       "      <td>15785693</td>\n",
       "      <td>1.578569e+07</td>\n",
       "      <td>15785693</td>\n",
       "      <td>1.578569e+07</td>\n",
       "      <td>1.578569e+07</td>\n",
       "    </tr>\n",
       "    <tr>\n",
       "      <th>unique</th>\n",
       "      <td>NaN</td>\n",
       "      <td>819</td>\n",
       "      <td>840</td>\n",
       "      <td>NaN</td>\n",
       "      <td>107</td>\n",
       "      <td>NaN</td>\n",
       "      <td>NaN</td>\n",
       "    </tr>\n",
       "    <tr>\n",
       "      <th>top</th>\n",
       "      <td>NaN</td>\n",
       "      <td>Pershing Square North</td>\n",
       "      <td>Pershing Square North</td>\n",
       "      <td>NaN</td>\n",
       "      <td>NULL</td>\n",
       "      <td>NaN</td>\n",
       "      <td>NaN</td>\n",
       "    </tr>\n",
       "    <tr>\n",
       "      <th>freq</th>\n",
       "      <td>NaN</td>\n",
       "      <td>159596</td>\n",
       "      <td>157488</td>\n",
       "      <td>NaN</td>\n",
       "      <td>1357715</td>\n",
       "      <td>NaN</td>\n",
       "      <td>NaN</td>\n",
       "    </tr>\n",
       "    <tr>\n",
       "      <th>mean</th>\n",
       "      <td>9.773486e+02</td>\n",
       "      <td>NaN</td>\n",
       "      <td>NaN</td>\n",
       "      <td>1.129114e+00</td>\n",
       "      <td>NaN</td>\n",
       "      <td>1.153322e+00</td>\n",
       "      <td>5.649912e+00</td>\n",
       "    </tr>\n",
       "    <tr>\n",
       "      <th>std</th>\n",
       "      <td>1.638794e+04</td>\n",
       "      <td>NaN</td>\n",
       "      <td>NaN</td>\n",
       "      <td>5.571568e-01</td>\n",
       "      <td>NaN</td>\n",
       "      <td>8.716413e-01</td>\n",
       "      <td>1.910771e+00</td>\n",
       "    </tr>\n",
       "    <tr>\n",
       "      <th>min</th>\n",
       "      <td>6.100000e+01</td>\n",
       "      <td>NaN</td>\n",
       "      <td>NaN</td>\n",
       "      <td>0.000000e+00</td>\n",
       "      <td>NaN</td>\n",
       "      <td>0.000000e+00</td>\n",
       "      <td>0.000000e+00</td>\n",
       "    </tr>\n",
       "    <tr>\n",
       "      <th>25%</th>\n",
       "      <td>3.720000e+02</td>\n",
       "      <td>NaN</td>\n",
       "      <td>NaN</td>\n",
       "      <td>1.000000e+00</td>\n",
       "      <td>NaN</td>\n",
       "      <td>5.518692e-01</td>\n",
       "      <td>4.525252e+00</td>\n",
       "    </tr>\n",
       "    <tr>\n",
       "      <th>50%</th>\n",
       "      <td>6.170000e+02</td>\n",
       "      <td>NaN</td>\n",
       "      <td>NaN</td>\n",
       "      <td>1.000000e+00</td>\n",
       "      <td>NaN</td>\n",
       "      <td>8.942758e-01</td>\n",
       "      <td>5.703544e+00</td>\n",
       "    </tr>\n",
       "    <tr>\n",
       "      <th>75%</th>\n",
       "      <td>1.061000e+03</td>\n",
       "      <td>NaN</td>\n",
       "      <td>NaN</td>\n",
       "      <td>1.000000e+00</td>\n",
       "      <td>NaN</td>\n",
       "      <td>1.480817e+00</td>\n",
       "      <td>6.870970e+00</td>\n",
       "    </tr>\n",
       "    <tr>\n",
       "      <th>max</th>\n",
       "      <td>9.735948e+06</td>\n",
       "      <td>NaN</td>\n",
       "      <td>NaN</td>\n",
       "      <td>2.000000e+00</td>\n",
       "      <td>NaN</td>\n",
       "      <td>1.093099e+01</td>\n",
       "      <td>1.499790e+01</td>\n",
       "    </tr>\n",
       "  </tbody>\n",
       "</table>\n",
       "</div>"
      ],
      "text/plain": [
       "        tripduration     start_station_name       end_station_name  \\\n",
       "count   1.578569e+07               15785693               15785693   \n",
       "unique           NaN                    819                    840   \n",
       "top              NaN  Pershing Square North  Pershing Square North   \n",
       "freq             NaN                 159596                 157488   \n",
       "mean    9.773486e+02                    NaN                    NaN   \n",
       "std     1.638794e+04                    NaN                    NaN   \n",
       "min     6.100000e+01                    NaN                    NaN   \n",
       "25%     3.720000e+02                    NaN                    NaN   \n",
       "50%     6.170000e+02                    NaN                    NaN   \n",
       "75%     1.061000e+03                    NaN                    NaN   \n",
       "max     9.735948e+06                    NaN                    NaN   \n",
       "\n",
       "              gender birth_year      distance     speed_mph  \n",
       "count   1.578569e+07   15785693  1.578569e+07  1.578569e+07  \n",
       "unique           NaN        107           NaN           NaN  \n",
       "top              NaN       NULL           NaN           NaN  \n",
       "freq             NaN    1357715           NaN           NaN  \n",
       "mean    1.129114e+00        NaN  1.153322e+00  5.649912e+00  \n",
       "std     5.571568e-01        NaN  8.716413e-01  1.910771e+00  \n",
       "min     0.000000e+00        NaN  0.000000e+00  0.000000e+00  \n",
       "25%     1.000000e+00        NaN  5.518692e-01  4.525252e+00  \n",
       "50%     1.000000e+00        NaN  8.942758e-01  5.703544e+00  \n",
       "75%     1.000000e+00        NaN  1.480817e+00  6.870970e+00  \n",
       "max     2.000000e+00        NaN  1.093099e+01  1.499790e+01  "
      ]
     },
     "execution_count": 28,
     "metadata": {},
     "output_type": "execute_result"
    }
   ],
   "source": [
    "#summary of the dataframe\n",
    "rider_months2.describe(include='all')"
   ]
  },
  {
   "cell_type": "markdown",
   "metadata": {},
   "source": [
    "# Gender wise performance- mean distance, median speed and mean speed"
   ]
  },
  {
   "cell_type": "code",
   "execution_count": 29,
   "metadata": {},
   "outputs": [],
   "source": [
    "#create dataframe with gender, time, distance and speed \n",
    "gen_perf=rider_months2[['gender','tripduration','distance','speed_mph']]"
   ]
  },
  {
   "cell_type": "code",
   "execution_count": 30,
   "metadata": {},
   "outputs": [
    {
     "data": {
      "text/html": [
       "<div>\n",
       "<style scoped>\n",
       "    .dataframe tbody tr th:only-of-type {\n",
       "        vertical-align: middle;\n",
       "    }\n",
       "\n",
       "    .dataframe tbody tr th {\n",
       "        vertical-align: top;\n",
       "    }\n",
       "\n",
       "    .dataframe thead th {\n",
       "        text-align: right;\n",
       "    }\n",
       "</style>\n",
       "<table border=\"1\" class=\"dataframe\">\n",
       "  <thead>\n",
       "    <tr style=\"text-align: right;\">\n",
       "      <th></th>\n",
       "      <th>gender</th>\n",
       "      <th>tripduration</th>\n",
       "      <th>distance</th>\n",
       "      <th>speed_mph</th>\n",
       "    </tr>\n",
       "  </thead>\n",
       "  <tbody>\n",
       "    <tr>\n",
       "      <th>0</th>\n",
       "      <td>2</td>\n",
       "      <td>680</td>\n",
       "      <td>0.543187</td>\n",
       "      <td>2.875694</td>\n",
       "    </tr>\n",
       "    <tr>\n",
       "      <th>1</th>\n",
       "      <td>2</td>\n",
       "      <td>1282</td>\n",
       "      <td>1.342357</td>\n",
       "      <td>3.769489</td>\n",
       "    </tr>\n",
       "    <tr>\n",
       "      <th>2</th>\n",
       "      <td>0</td>\n",
       "      <td>648</td>\n",
       "      <td>0.576545</td>\n",
       "      <td>3.203029</td>\n",
       "    </tr>\n",
       "    <tr>\n",
       "      <th>3</th>\n",
       "      <td>0</td>\n",
       "      <td>631</td>\n",
       "      <td>0.576545</td>\n",
       "      <td>3.289323</td>\n",
       "    </tr>\n",
       "    <tr>\n",
       "      <th>4</th>\n",
       "      <td>0</td>\n",
       "      <td>621</td>\n",
       "      <td>0.576545</td>\n",
       "      <td>3.342292</td>\n",
       "    </tr>\n",
       "  </tbody>\n",
       "</table>\n",
       "</div>"
      ],
      "text/plain": [
       "   gender  tripduration  distance  speed_mph\n",
       "0       2           680  0.543187   2.875694\n",
       "1       2          1282  1.342357   3.769489\n",
       "2       0           648  0.576545   3.203029\n",
       "3       0           631  0.576545   3.289323\n",
       "4       0           621  0.576545   3.342292"
      ]
     },
     "execution_count": 30,
     "metadata": {},
     "output_type": "execute_result"
    }
   ],
   "source": [
    "#check first few rows\n",
    "gen_perf.head()"
   ]
  },
  {
   "cell_type": "code",
   "execution_count": 31,
   "metadata": {},
   "outputs": [
    {
     "data": {
      "text/html": [
       "<div>\n",
       "<style scoped>\n",
       "    .dataframe tbody tr th:only-of-type {\n",
       "        vertical-align: middle;\n",
       "    }\n",
       "\n",
       "    .dataframe tbody tr th {\n",
       "        vertical-align: top;\n",
       "    }\n",
       "\n",
       "    .dataframe thead th {\n",
       "        text-align: right;\n",
       "    }\n",
       "</style>\n",
       "<table border=\"1\" class=\"dataframe\">\n",
       "  <thead>\n",
       "    <tr style=\"text-align: right;\">\n",
       "      <th></th>\n",
       "      <th>gender</th>\n",
       "      <th>tripduration</th>\n",
       "      <th>distance</th>\n",
       "      <th>speed_mph</th>\n",
       "    </tr>\n",
       "  </thead>\n",
       "  <tbody>\n",
       "    <tr>\n",
       "      <th>count</th>\n",
       "      <td>1.578569e+07</td>\n",
       "      <td>1.578569e+07</td>\n",
       "      <td>1.578569e+07</td>\n",
       "      <td>1.578569e+07</td>\n",
       "    </tr>\n",
       "    <tr>\n",
       "      <th>mean</th>\n",
       "      <td>1.129114e+00</td>\n",
       "      <td>9.773486e+02</td>\n",
       "      <td>1.153322e+00</td>\n",
       "      <td>5.649912e+00</td>\n",
       "    </tr>\n",
       "    <tr>\n",
       "      <th>std</th>\n",
       "      <td>5.571568e-01</td>\n",
       "      <td>1.638794e+04</td>\n",
       "      <td>8.716413e-01</td>\n",
       "      <td>1.910771e+00</td>\n",
       "    </tr>\n",
       "    <tr>\n",
       "      <th>min</th>\n",
       "      <td>0.000000e+00</td>\n",
       "      <td>6.100000e+01</td>\n",
       "      <td>0.000000e+00</td>\n",
       "      <td>0.000000e+00</td>\n",
       "    </tr>\n",
       "    <tr>\n",
       "      <th>25%</th>\n",
       "      <td>1.000000e+00</td>\n",
       "      <td>3.720000e+02</td>\n",
       "      <td>5.518692e-01</td>\n",
       "      <td>4.525252e+00</td>\n",
       "    </tr>\n",
       "    <tr>\n",
       "      <th>50%</th>\n",
       "      <td>1.000000e+00</td>\n",
       "      <td>6.170000e+02</td>\n",
       "      <td>8.942758e-01</td>\n",
       "      <td>5.703544e+00</td>\n",
       "    </tr>\n",
       "    <tr>\n",
       "      <th>75%</th>\n",
       "      <td>1.000000e+00</td>\n",
       "      <td>1.061000e+03</td>\n",
       "      <td>1.480817e+00</td>\n",
       "      <td>6.870970e+00</td>\n",
       "    </tr>\n",
       "    <tr>\n",
       "      <th>max</th>\n",
       "      <td>2.000000e+00</td>\n",
       "      <td>9.735948e+06</td>\n",
       "      <td>1.093099e+01</td>\n",
       "      <td>1.499790e+01</td>\n",
       "    </tr>\n",
       "  </tbody>\n",
       "</table>\n",
       "</div>"
      ],
      "text/plain": [
       "             gender  tripduration      distance     speed_mph\n",
       "count  1.578569e+07  1.578569e+07  1.578569e+07  1.578569e+07\n",
       "mean   1.129114e+00  9.773486e+02  1.153322e+00  5.649912e+00\n",
       "std    5.571568e-01  1.638794e+04  8.716413e-01  1.910771e+00\n",
       "min    0.000000e+00  6.100000e+01  0.000000e+00  0.000000e+00\n",
       "25%    1.000000e+00  3.720000e+02  5.518692e-01  4.525252e+00\n",
       "50%    1.000000e+00  6.170000e+02  8.942758e-01  5.703544e+00\n",
       "75%    1.000000e+00  1.061000e+03  1.480817e+00  6.870970e+00\n",
       "max    2.000000e+00  9.735948e+06  1.093099e+01  1.499790e+01"
      ]
     },
     "execution_count": 31,
     "metadata": {},
     "output_type": "execute_result"
    }
   ],
   "source": [
    "#summary of the gender performance dataframe\n",
    "gen_perf.describe(include='all')"
   ]
  },
  {
   "cell_type": "code",
   "execution_count": null,
   "metadata": {},
   "outputs": [],
   "source": [
    "#convert gender to string\n",
    "gen_perf['gender']=gen_perf['gender'].apply(str)\n",
    "\n",
    "#replace 0,1,2 with corresponding gender values: 0- Unknown, 1-Male and 2-Female\n",
    "gen_perf.loc[gen_perf.gender == '0','gender'] = 'Unknown'\n",
    "gen_perf.loc[gen_perf.gender == '1','gender'] = 'Male'\n",
    "gen_perf.loc[gen_perf.gender == '2','gender'] = 'Female'"
   ]
  },
  {
   "cell_type": "code",
   "execution_count": 45,
   "metadata": {},
   "outputs": [
    {
     "data": {
      "text/plain": [
       "Text(0.5,1,'Gender wise distance')"
      ]
     },
     "execution_count": 45,
     "metadata": {},
     "output_type": "execute_result"
    },
    {
     "data": {
      "image/png": "[encoded data removed]",
      "text/plain": [
       "<matplotlib.figure.Figure at 0x1aff9e56a0>"
      ]
     },
     "metadata": {},
     "output_type": "display_data"
    }
   ],
   "source": [
    "#box plot of gender and distance\n",
    "fig = plt.figure(figsize=(10,4)) #set figure size\n",
    "bp1=sns.boxplot(x=\"gender\", y=\"distance\", data=gen_perf); #generate box plot\n",
    "bp1.set(xlabel='Gender', ylabel='Distance(miles)') #add labels\n",
    "bp1.set_title('Gender wise distance') #add title"
   ]
  },
  {
   "cell_type": "code",
   "execution_count": 46,
   "metadata": {},
   "outputs": [
    {
     "data": {
      "text/plain": [
       "Text(0.5,1,'Gender wise speed')"
      ]
     },
     "execution_count": 46,
     "metadata": {},
     "output_type": "execute_result"
    },
    {
     "data": {
      "image/png": "[encoded data removed]",
      "text/plain": [
       "<matplotlib.figure.Figure at 0x1b1d913080>"
      ]
     },
     "metadata": {},
     "output_type": "display_data"
    }
   ],
   "source": [
    "#box plot of gender and speed\n",
    "fig = plt.figure(figsize=(10,4)) #set margins\n",
    "bp2=sns.boxplot(x=\"gender\", y=\"speed_mph\", data=gen_perf); #plot\n",
    "bp2.set(xlabel='Gender', ylabel='Speed(miles per hour)') #set axes labels\n",
    "bp2.set_title('Gender wise speed') #add title"
   ]
  },
  {
   "cell_type": "markdown",
   "metadata": {},
   "source": [
    "# Gender wise mean distance and mean speed"
   ]
  },
  {
   "cell_type": "code",
   "execution_count": 34,
   "metadata": {},
   "outputs": [
    {
     "data": {
      "text/html": [
       "<div>\n",
       "<style scoped>\n",
       "    .dataframe tbody tr th:only-of-type {\n",
       "        vertical-align: middle;\n",
       "    }\n",
       "\n",
       "    .dataframe tbody tr th {\n",
       "        vertical-align: top;\n",
       "    }\n",
       "\n",
       "    .dataframe thead th {\n",
       "        text-align: right;\n",
       "    }\n",
       "</style>\n",
       "<table border=\"1\" class=\"dataframe\">\n",
       "  <thead>\n",
       "    <tr style=\"text-align: right;\">\n",
       "      <th></th>\n",
       "      <th>gender</th>\n",
       "      <th>tripduration</th>\n",
       "      <th>distance</th>\n",
       "      <th>speed_mph</th>\n",
       "    </tr>\n",
       "  </thead>\n",
       "  <tbody>\n",
       "    <tr>\n",
       "      <th>0</th>\n",
       "      <td>Female</td>\n",
       "      <td>996.190887</td>\n",
       "      <td>1.181214</td>\n",
       "      <td>5.389926</td>\n",
       "    </tr>\n",
       "    <tr>\n",
       "      <th>1</th>\n",
       "      <td>Male</td>\n",
       "      <td>844.185510</td>\n",
       "      <td>1.125641</td>\n",
       "      <td>5.987812</td>\n",
       "    </tr>\n",
       "    <tr>\n",
       "      <th>2</th>\n",
       "      <td>Unknown</td>\n",
       "      <td>1839.133387</td>\n",
       "      <td>1.277220</td>\n",
       "      <td>3.952057</td>\n",
       "    </tr>\n",
       "  </tbody>\n",
       "</table>\n",
       "</div>"
      ],
      "text/plain": [
       "    gender  tripduration  distance  speed_mph\n",
       "0   Female    996.190887  1.181214   5.389926\n",
       "1     Male    844.185510  1.125641   5.987812\n",
       "2  Unknown   1839.133387  1.277220   3.952057"
      ]
     },
     "execution_count": 34,
     "metadata": {},
     "output_type": "execute_result"
    }
   ],
   "source": [
    "#create a new dataframe with mean vales for trip duration, distance and speed\n",
    "gen_perf_mean=gen_perf.groupby('gender').aggregate('mean') #get means\n",
    "gen_perf_mean.reset_index(inplace=True)#reset index\n",
    "gen_perf_mean#check the dataframe"
   ]
  },
  {
   "cell_type": "code",
   "execution_count": 37,
   "metadata": {},
   "outputs": [],
   "source": [
    "#dataframe to plot gender wise mean speed and mean distance\n",
    "gen_perf_mean1=gen_perf_mean[['gender','distance','speed_mph']]"
   ]
  },
  {
   "cell_type": "code",
   "execution_count": 163,
   "metadata": {},
   "outputs": [
    {
     "data": {
      "text/plain": [
       "Text(0.5,0,'Gender')"
      ]
     },
     "execution_count": 163,
     "metadata": {},
     "output_type": "execute_result"
    },
    {
     "data": {
      "image/png": "[encoded data removed]",
      "text/plain": [
       "<matplotlib.figure.Figure at 0x1c19125588>"
      ]
     },
     "metadata": {},
     "output_type": "display_data"
    }
   ],
   "source": [
    "#plot gender wise mean distance and mean speed\n",
    "# figure size in inches\n",
    "rcParams['figure.figsize'] = 11.7,7.27\n",
    "g=gen_perf_mean1.plot( kind= 'bar' , secondary_y= 'speed_mph' ,rot=2, x='gender',legend=True)#plot\n",
    "g.set_title('Mean Distance-Mean Speed by Gender',fontsize=20)\n",
    "g.set_xlabel('Gender',fontsize=20)"
   ]
  },
  {
   "cell_type": "markdown",
   "metadata": {},
   "source": [
    "Mean distance travelled is almost the same for all genders. It ranges between 1.18 to 1.2 miles. Mean speed is the highest for males."
   ]
  },
  {
   "cell_type": "markdown",
   "metadata": {},
   "source": [
    "# Gender wise mean distance and median speed"
   ]
  },
  {
   "cell_type": "code",
   "execution_count": 92,
   "metadata": {},
   "outputs": [
    {
     "data": {
      "text/html": [
       "<div>\n",
       "<style scoped>\n",
       "    .dataframe tbody tr th:only-of-type {\n",
       "        vertical-align: middle;\n",
       "    }\n",
       "\n",
       "    .dataframe tbody tr th {\n",
       "        vertical-align: top;\n",
       "    }\n",
       "\n",
       "    .dataframe thead th {\n",
       "        text-align: right;\n",
       "    }\n",
       "</style>\n",
       "<table border=\"1\" class=\"dataframe\">\n",
       "  <thead>\n",
       "    <tr style=\"text-align: right;\">\n",
       "      <th></th>\n",
       "      <th>gender</th>\n",
       "      <th>mean_dist</th>\n",
       "      <th>median_speed</th>\n",
       "    </tr>\n",
       "  </thead>\n",
       "  <tbody>\n",
       "    <tr>\n",
       "      <th>0</th>\n",
       "      <td>Female</td>\n",
       "      <td>1.181214</td>\n",
       "      <td>5.392012</td>\n",
       "    </tr>\n",
       "    <tr>\n",
       "      <th>1</th>\n",
       "      <td>Male</td>\n",
       "      <td>1.125641</td>\n",
       "      <td>6.005873</td>\n",
       "    </tr>\n",
       "    <tr>\n",
       "      <th>2</th>\n",
       "      <td>Unknown</td>\n",
       "      <td>1.277220</td>\n",
       "      <td>3.852279</td>\n",
       "    </tr>\n",
       "  </tbody>\n",
       "</table>\n",
       "</div>"
      ],
      "text/plain": [
       "    gender  mean_dist  median_speed\n",
       "0   Female   1.181214      5.392012\n",
       "1     Male   1.125641      6.005873\n",
       "2  Unknown   1.277220      3.852279"
      ]
     },
     "execution_count": 92,
     "metadata": {},
     "output_type": "execute_result"
    }
   ],
   "source": [
    "#create dataframe with gender and distance\n",
    "gen_perf_gen_dist=gen_perf[['gender','distance']]\n",
    "\n",
    "#create dataframe with gender and speed\n",
    "gen_perf_gen_speed=gen_perf[['gender','speed_mph']]\n",
    "\n",
    "#group gender by mean distance\n",
    "gen_perf_gen_dist1=gen_perf_gen_dist.groupby('gender').mean()\n",
    "gen_perf_gen_dist1.reset_index(inplace=True)#reset index\n",
    "\n",
    "#group gender by median speed\n",
    "gen_perf_gen_speed1=gen_perf_gen_speed.groupby('gender').median()\n",
    "gen_perf_gen_speed1.reset_index(inplace=True)#reset index\n",
    "\n",
    "#join mean distance and median speed dataframes\n",
    "gen_perf_gen_dist_med_speed=pd.concat([gen_perf_gen_dist1,gen_perf_gen_speed1['speed_mph']],axis=1) \n",
    "gen_perf_gen_dist_med_speed.columns=['gender','mean_dist','median_speed'] #rename columns\n",
    "gen_perf_gen_dist_med_speed #check the dataframe"
   ]
  },
  {
   "cell_type": "code",
   "execution_count": 165,
   "metadata": {},
   "outputs": [
    {
     "data": {
      "text/plain": [
       "Text(0.5,0,'Gender')"
      ]
     },
     "execution_count": 165,
     "metadata": {},
     "output_type": "execute_result"
    },
    {
     "data": {
      "image/png": "[encoded data removed]",
      "text/plain": [
       "<matplotlib.figure.Figure at 0x1c19203748>"
      ]
     },
     "metadata": {},
     "output_type": "display_data"
    }
   ],
   "source": [
    "#plot gender wise mean distance and median speed\n",
    "# figure size in inches\n",
    "rcParams['figure.figsize'] = 11.7,4.27\n",
    "g1=gen_perf_gen_dist_med_speed.plot( kind= 'bar' , secondary_y= 'speed_mph' ,rot=2, x='gender',legend=True)\n",
    "g1.set_title('Mean Distance-Median Speed by Gender',fontsize=20)\n",
    "g1.set_xlabel('Gender',fontsize=20)"
   ]
  },
  {
   "cell_type": "markdown",
   "metadata": {},
   "source": [
    "Mean distance travelled is almost the same for all genders. Median speed is the highest for males."
   ]
  },
  {
   "cell_type": "markdown",
   "metadata": {},
   "source": [
    "# Age wise performance- mean distance, mean speed, median speed"
   ]
  },
  {
   "cell_type": "code",
   "execution_count": 47,
   "metadata": {},
   "outputs": [
    {
     "data": {
      "text/html": [
       "<div>\n",
       "<style scoped>\n",
       "    .dataframe tbody tr th:only-of-type {\n",
       "        vertical-align: middle;\n",
       "    }\n",
       "\n",
       "    .dataframe tbody tr th {\n",
       "        vertical-align: top;\n",
       "    }\n",
       "\n",
       "    .dataframe thead th {\n",
       "        text-align: right;\n",
       "    }\n",
       "</style>\n",
       "<table border=\"1\" class=\"dataframe\">\n",
       "  <thead>\n",
       "    <tr style=\"text-align: right;\">\n",
       "      <th></th>\n",
       "      <th>tripduration</th>\n",
       "      <th>start_station_name</th>\n",
       "      <th>end_station_name</th>\n",
       "      <th>gender</th>\n",
       "      <th>birth_year</th>\n",
       "      <th>distance</th>\n",
       "      <th>speed_mph</th>\n",
       "    </tr>\n",
       "  </thead>\n",
       "  <tbody>\n",
       "    <tr>\n",
       "      <th>0</th>\n",
       "      <td>680</td>\n",
       "      <td>W 82 St &amp; Central Park West</td>\n",
       "      <td>Central Park West &amp; W 72 St</td>\n",
       "      <td>2</td>\n",
       "      <td>1965</td>\n",
       "      <td>0.543187</td>\n",
       "      <td>2.875694</td>\n",
       "    </tr>\n",
       "    <tr>\n",
       "      <th>1</th>\n",
       "      <td>1282</td>\n",
       "      <td>Cooper Square &amp; E 7 St</td>\n",
       "      <td>Broadway &amp; W 32 St</td>\n",
       "      <td>2</td>\n",
       "      <td>1987</td>\n",
       "      <td>1.342357</td>\n",
       "      <td>3.769489</td>\n",
       "    </tr>\n",
       "    <tr>\n",
       "      <th>2</th>\n",
       "      <td>648</td>\n",
       "      <td>5 Ave &amp; E 78 St</td>\n",
       "      <td>3 Ave &amp; E 71 St</td>\n",
       "      <td>0</td>\n",
       "      <td>0</td>\n",
       "      <td>0.576545</td>\n",
       "      <td>3.203029</td>\n",
       "    </tr>\n",
       "    <tr>\n",
       "      <th>3</th>\n",
       "      <td>631</td>\n",
       "      <td>5 Ave &amp; E 78 St</td>\n",
       "      <td>3 Ave &amp; E 71 St</td>\n",
       "      <td>0</td>\n",
       "      <td>0</td>\n",
       "      <td>0.576545</td>\n",
       "      <td>3.289323</td>\n",
       "    </tr>\n",
       "    <tr>\n",
       "      <th>4</th>\n",
       "      <td>621</td>\n",
       "      <td>5 Ave &amp; E 78 St</td>\n",
       "      <td>3 Ave &amp; E 71 St</td>\n",
       "      <td>0</td>\n",
       "      <td>0</td>\n",
       "      <td>0.576545</td>\n",
       "      <td>3.342292</td>\n",
       "    </tr>\n",
       "  </tbody>\n",
       "</table>\n",
       "</div>"
      ],
      "text/plain": [
       "   tripduration           start_station_name             end_station_name  \\\n",
       "0           680  W 82 St & Central Park West  Central Park West & W 72 St   \n",
       "1          1282       Cooper Square & E 7 St           Broadway & W 32 St   \n",
       "2           648              5 Ave & E 78 St              3 Ave & E 71 St   \n",
       "3           631              5 Ave & E 78 St              3 Ave & E 71 St   \n",
       "4           621              5 Ave & E 78 St              3 Ave & E 71 St   \n",
       "\n",
       "   gender birth_year  distance  speed_mph  \n",
       "0       2       1965  0.543187   2.875694  \n",
       "1       2       1987  1.342357   3.769489  \n",
       "2       0          0  0.576545   3.203029  \n",
       "3       0          0  0.576545   3.289323  \n",
       "4       0          0  0.576545   3.342292  "
      ]
     },
     "execution_count": 47,
     "metadata": {},
     "output_type": "execute_result"
    }
   ],
   "source": [
    "#first few rows of rider dataframe\n",
    "rider_months2.head()"
   ]
  },
  {
   "cell_type": "code",
   "execution_count": 48,
   "metadata": {},
   "outputs": [],
   "source": [
    "#create a dataframe for age-wise performance measure\n",
    "age_perf=rider_months2[['birth_year','distance','speed_mph']]"
   ]
  },
  {
   "cell_type": "code",
   "execution_count": null,
   "metadata": {},
   "outputs": [],
   "source": [
    "#replace NULLs with 0 in 'birth_year\n",
    "age_perf['birth_year'].replace(to_replace=\"NULL\",value='0',inplace=True)\n",
    "\n",
    "#convert birth_year to int\n",
    "age_perf['birth_year']=age_perf['birth_year'].astype(int)\n",
    "\n",
    "#create 'age' variable\n",
    "age_perf['age']=2018-(age_perf['birth_year'])"
   ]
  },
  {
   "cell_type": "code",
   "execution_count": 52,
   "metadata": {},
   "outputs": [
    {
     "data": {
      "text/html": [
       "<div>\n",
       "<style scoped>\n",
       "    .dataframe tbody tr th:only-of-type {\n",
       "        vertical-align: middle;\n",
       "    }\n",
       "\n",
       "    .dataframe tbody tr th {\n",
       "        vertical-align: top;\n",
       "    }\n",
       "\n",
       "    .dataframe thead th {\n",
       "        text-align: right;\n",
       "    }\n",
       "</style>\n",
       "<table border=\"1\" class=\"dataframe\">\n",
       "  <thead>\n",
       "    <tr style=\"text-align: right;\">\n",
       "      <th></th>\n",
       "      <th>birth_year</th>\n",
       "      <th>distance</th>\n",
       "      <th>speed_mph</th>\n",
       "      <th>age</th>\n",
       "    </tr>\n",
       "  </thead>\n",
       "  <tbody>\n",
       "    <tr>\n",
       "      <th>0</th>\n",
       "      <td>1965</td>\n",
       "      <td>0.543187</td>\n",
       "      <td>2.875694</td>\n",
       "      <td>53</td>\n",
       "    </tr>\n",
       "    <tr>\n",
       "      <th>1</th>\n",
       "      <td>1987</td>\n",
       "      <td>1.342357</td>\n",
       "      <td>3.769489</td>\n",
       "      <td>31</td>\n",
       "    </tr>\n",
       "    <tr>\n",
       "      <th>2</th>\n",
       "      <td>0</td>\n",
       "      <td>0.576545</td>\n",
       "      <td>3.203029</td>\n",
       "      <td>2018</td>\n",
       "    </tr>\n",
       "    <tr>\n",
       "      <th>3</th>\n",
       "      <td>0</td>\n",
       "      <td>0.576545</td>\n",
       "      <td>3.289323</td>\n",
       "      <td>2018</td>\n",
       "    </tr>\n",
       "    <tr>\n",
       "      <th>4</th>\n",
       "      <td>0</td>\n",
       "      <td>0.576545</td>\n",
       "      <td>3.342292</td>\n",
       "      <td>2018</td>\n",
       "    </tr>\n",
       "  </tbody>\n",
       "</table>\n",
       "</div>"
      ],
      "text/plain": [
       "   birth_year  distance  speed_mph   age\n",
       "0        1965  0.543187   2.875694    53\n",
       "1        1987  1.342357   3.769489    31\n",
       "2           0  0.576545   3.203029  2018\n",
       "3           0  0.576545   3.289323  2018\n",
       "4           0  0.576545   3.342292  2018"
      ]
     },
     "execution_count": 52,
     "metadata": {},
     "output_type": "execute_result"
    }
   ],
   "source": [
    "#first few rows of age-wise performance dataframe\n",
    "age_perf.head()"
   ]
  },
  {
   "cell_type": "code",
   "execution_count": null,
   "metadata": {},
   "outputs": [],
   "source": [
    "# create age groups\n",
    "\n",
    "#create age group bins\n",
    "l1=list(range(0, 21)) #list of ages between 0-20\n",
    "l2=list(range(21, 41))#list of ages between 21-40\n",
    "l3=list(range(41, 61))#list of ages between 41-60\n",
    "l4=list(range(61, 150))#list of ages >60\n",
    "\n",
    "age_perf['Age Group'] = 'Unknown'#mark missing ages\n",
    "age_perf.loc[age_perf['age'].isin(l1) , 'Age Group'] = '0-20'#mark age group 0-20\n",
    "age_perf.loc[age_perf['age'].isin(l2) , 'Age Group'] = '21-40'#mark age group 21-40\n",
    "age_perf.loc[age_perf['age'].isin(l3) , 'Age Group'] = '41-60'#mark age group 41-60\n",
    "age_perf.loc[age_perf['age'].isin(l4) , 'Age Group'] = 'Above 61'#mark age group >61"
   ]
  },
  {
   "cell_type": "code",
   "execution_count": 56,
   "metadata": {},
   "outputs": [
    {
     "data": {
      "text/html": [
       "<div>\n",
       "<style scoped>\n",
       "    .dataframe tbody tr th:only-of-type {\n",
       "        vertical-align: middle;\n",
       "    }\n",
       "\n",
       "    .dataframe tbody tr th {\n",
       "        vertical-align: top;\n",
       "    }\n",
       "\n",
       "    .dataframe thead th {\n",
       "        text-align: right;\n",
       "    }\n",
       "</style>\n",
       "<table border=\"1\" class=\"dataframe\">\n",
       "  <thead>\n",
       "    <tr style=\"text-align: right;\">\n",
       "      <th></th>\n",
       "      <th>birth_year</th>\n",
       "      <th>distance</th>\n",
       "      <th>speed_mph</th>\n",
       "      <th>age</th>\n",
       "      <th>Age Group</th>\n",
       "    </tr>\n",
       "  </thead>\n",
       "  <tbody>\n",
       "    <tr>\n",
       "      <th>0</th>\n",
       "      <td>1965</td>\n",
       "      <td>0.543187</td>\n",
       "      <td>2.875694</td>\n",
       "      <td>53</td>\n",
       "      <td>41-60</td>\n",
       "    </tr>\n",
       "    <tr>\n",
       "      <th>1</th>\n",
       "      <td>1987</td>\n",
       "      <td>1.342357</td>\n",
       "      <td>3.769489</td>\n",
       "      <td>31</td>\n",
       "      <td>21-40</td>\n",
       "    </tr>\n",
       "    <tr>\n",
       "      <th>2</th>\n",
       "      <td>0</td>\n",
       "      <td>0.576545</td>\n",
       "      <td>3.203029</td>\n",
       "      <td>2018</td>\n",
       "      <td>Unknown</td>\n",
       "    </tr>\n",
       "    <tr>\n",
       "      <th>3</th>\n",
       "      <td>0</td>\n",
       "      <td>0.576545</td>\n",
       "      <td>3.289323</td>\n",
       "      <td>2018</td>\n",
       "      <td>Unknown</td>\n",
       "    </tr>\n",
       "    <tr>\n",
       "      <th>4</th>\n",
       "      <td>0</td>\n",
       "      <td>0.576545</td>\n",
       "      <td>3.342292</td>\n",
       "      <td>2018</td>\n",
       "      <td>Unknown</td>\n",
       "    </tr>\n",
       "  </tbody>\n",
       "</table>\n",
       "</div>"
      ],
      "text/plain": [
       "   birth_year  distance  speed_mph   age Age Group\n",
       "0        1965  0.543187   2.875694    53     41-60\n",
       "1        1987  1.342357   3.769489    31     21-40\n",
       "2           0  0.576545   3.203029  2018   Unknown\n",
       "3           0  0.576545   3.289323  2018   Unknown\n",
       "4           0  0.576545   3.342292  2018   Unknown"
      ]
     },
     "execution_count": 56,
     "metadata": {},
     "output_type": "execute_result"
    }
   ],
   "source": [
    "#first few rows of the age wise performance dataframe\n",
    "age_perf.head()"
   ]
  },
  {
   "cell_type": "code",
   "execution_count": 57,
   "metadata": {},
   "outputs": [
    {
     "data": {
      "text/plain": [
       "Text(0.5,1,'Age wise distance')"
      ]
     },
     "execution_count": 57,
     "metadata": {},
     "output_type": "execute_result"
    },
    {
     "data": {
      "image/png": "[encoded data removed]",
      "text/plain": [
       "<matplotlib.figure.Figure at 0x1afd5f8240>"
      ]
     },
     "metadata": {},
     "output_type": "display_data"
    }
   ],
   "source": [
    "#age group vs distance\n",
    "fig = plt.figure(figsize=(10,4)) #set margins\n",
    "bp3=sns.boxplot(x='Age Group',y='distance',data=age_perf) #plot\n",
    "bp3.set(xlabel='Age Group', ylabel='Distance(miles)') #set axes labels\n",
    "bp3.set_title(\"Age wise distance\") #set title"
   ]
  },
  {
   "cell_type": "code",
   "execution_count": 58,
   "metadata": {},
   "outputs": [
    {
     "data": {
      "text/plain": [
       "Text(0.5,1,'Age wise speed')"
      ]
     },
     "execution_count": 58,
     "metadata": {},
     "output_type": "execute_result"
    },
    {
     "data": {
      "image/png": "[encoded data removed]",
      "text/plain": [
       "<matplotlib.figure.Figure at 0x1afd5dc630>"
      ]
     },
     "metadata": {},
     "output_type": "display_data"
    }
   ],
   "source": [
    "#age group vs speed\n",
    "fig = plt.figure(figsize=(10,4))#set margins\n",
    "bp4=sns.boxplot(x='Age Group',y='speed_mph',data=age_perf)#plot\n",
    "bp4.set(xlabel='Age Group', ylabel='Speed(miles per hour)')#set axes labels\n",
    "bp4.set_title(\"Age wise speed\")#set title"
   ]
  },
  {
   "cell_type": "markdown",
   "metadata": {},
   "source": [
    "# Age wise mean distance and mean speed"
   ]
  },
  {
   "cell_type": "code",
   "execution_count": 71,
   "metadata": {},
   "outputs": [
    {
     "data": {
      "text/html": [
       "<div>\n",
       "<style scoped>\n",
       "    .dataframe tbody tr th:only-of-type {\n",
       "        vertical-align: middle;\n",
       "    }\n",
       "\n",
       "    .dataframe tbody tr th {\n",
       "        vertical-align: top;\n",
       "    }\n",
       "\n",
       "    .dataframe thead th {\n",
       "        text-align: right;\n",
       "    }\n",
       "</style>\n",
       "<table border=\"1\" class=\"dataframe\">\n",
       "  <thead>\n",
       "    <tr style=\"text-align: right;\">\n",
       "      <th></th>\n",
       "      <th>Age Group</th>\n",
       "      <th>distance</th>\n",
       "      <th>speed_mph</th>\n",
       "    </tr>\n",
       "  </thead>\n",
       "  <tbody>\n",
       "    <tr>\n",
       "      <th>0</th>\n",
       "      <td>0-20</td>\n",
       "      <td>0.955864</td>\n",
       "      <td>5.443706</td>\n",
       "    </tr>\n",
       "    <tr>\n",
       "      <th>1</th>\n",
       "      <td>21-40</td>\n",
       "      <td>1.152396</td>\n",
       "      <td>5.948318</td>\n",
       "    </tr>\n",
       "    <tr>\n",
       "      <th>2</th>\n",
       "      <td>41-60</td>\n",
       "      <td>1.131682</td>\n",
       "      <td>5.737587</td>\n",
       "    </tr>\n",
       "    <tr>\n",
       "      <th>3</th>\n",
       "      <td>Above 61</td>\n",
       "      <td>1.077429</td>\n",
       "      <td>5.242511</td>\n",
       "    </tr>\n",
       "    <tr>\n",
       "      <th>4</th>\n",
       "      <td>Unknown</td>\n",
       "      <td>1.284414</td>\n",
       "      <td>3.888172</td>\n",
       "    </tr>\n",
       "  </tbody>\n",
       "</table>\n",
       "</div>"
      ],
      "text/plain": [
       "  Age Group  distance  speed_mph\n",
       "0      0-20  0.955864   5.443706\n",
       "1     21-40  1.152396   5.948318\n",
       "2     41-60  1.131682   5.737587\n",
       "3  Above 61  1.077429   5.242511\n",
       "4   Unknown  1.284414   3.888172"
      ]
     },
     "execution_count": 71,
     "metadata": {},
     "output_type": "execute_result"
    }
   ],
   "source": [
    "#age wise performance daatframe with mean values for speed and distance\n",
    "age_perf_mean1=age_perf_mean[['Age Group','distance','speed_mph']]#select columns needed for the graph\n",
    "age_perf_mean2=age_perf_mean1.groupby('Age Group').aggregate('mean') # calculate mean distance and speed for age groups\n",
    "age_perf_mean2.reset_index(inplace=True)#reset index\n",
    "age_perf_mean2#check the dataframe"
   ]
  },
  {
   "cell_type": "code",
   "execution_count": 166,
   "metadata": {},
   "outputs": [
    {
     "data": {
      "text/plain": [
       "Text(0.5,0,'Age Groups')"
      ]
     },
     "execution_count": 166,
     "metadata": {},
     "output_type": "execute_result"
    },
    {
     "data": {
      "image/png": "[encoded data removed]",
      "text/plain": [
       "<matplotlib.figure.Figure at 0x1c19a16be0>"
      ]
     },
     "metadata": {},
     "output_type": "display_data"
    }
   ],
   "source": [
    "#plot age wise mean distance and mean speed\n",
    "# figure size in inches\n",
    "rcParams['figure.figsize'] = 11.7,4.27\n",
    "a=age_perf_mean2.plot( kind= 'bar' , secondary_y= 'speed_mph' ,rot=2, x='Age Group',legend=True) #plot \n",
    "a.set_title('Mean Distance- Mean Speed by Age Group',fontsize=20)#set title\n",
    "a.set_xlabel('Age Groups',fontsize=20)"
   ]
  },
  {
   "cell_type": "markdown",
   "metadata": {},
   "source": [
    "Mean distance travelled is almost the same for all age groups. It ranges between 0.9 to 1.28 miles. Mean speed is the highest for ages 21-40 and 41-60 years."
   ]
  },
  {
   "cell_type": "markdown",
   "metadata": {},
   "source": [
    "# Age wise mean distance and median speed"
   ]
  },
  {
   "cell_type": "code",
   "execution_count": 98,
   "metadata": {},
   "outputs": [],
   "source": [
    "#create dataframe with age groups and distance\n",
    "age_perf_age_dist=age_perf[['Age Group','distance']]\n",
    "\n",
    "#create dataframe with age group and speed\n",
    "age_perf_age_speed=age_perf[['Age Group','speed_mph']]"
   ]
  },
  {
   "cell_type": "code",
   "execution_count": 104,
   "metadata": {},
   "outputs": [
    {
     "data": {
      "text/html": [
       "<div>\n",
       "<style scoped>\n",
       "    .dataframe tbody tr th:only-of-type {\n",
       "        vertical-align: middle;\n",
       "    }\n",
       "\n",
       "    .dataframe tbody tr th {\n",
       "        vertical-align: top;\n",
       "    }\n",
       "\n",
       "    .dataframe thead th {\n",
       "        text-align: right;\n",
       "    }\n",
       "</style>\n",
       "<table border=\"1\" class=\"dataframe\">\n",
       "  <thead>\n",
       "    <tr style=\"text-align: right;\">\n",
       "      <th></th>\n",
       "      <th>Age Group</th>\n",
       "      <th>mean_dist</th>\n",
       "      <th>median_speed</th>\n",
       "    </tr>\n",
       "  </thead>\n",
       "  <tbody>\n",
       "    <tr>\n",
       "      <th>0</th>\n",
       "      <td>0-20</td>\n",
       "      <td>0.955864</td>\n",
       "      <td>5.537415</td>\n",
       "    </tr>\n",
       "    <tr>\n",
       "      <th>1</th>\n",
       "      <td>21-40</td>\n",
       "      <td>1.152396</td>\n",
       "      <td>5.955933</td>\n",
       "    </tr>\n",
       "    <tr>\n",
       "      <th>2</th>\n",
       "      <td>41-60</td>\n",
       "      <td>1.131682</td>\n",
       "      <td>5.744552</td>\n",
       "    </tr>\n",
       "    <tr>\n",
       "      <th>3</th>\n",
       "      <td>Above 61</td>\n",
       "      <td>1.077429</td>\n",
       "      <td>5.240677</td>\n",
       "    </tr>\n",
       "    <tr>\n",
       "      <th>4</th>\n",
       "      <td>Unknown</td>\n",
       "      <td>1.284414</td>\n",
       "      <td>3.782160</td>\n",
       "    </tr>\n",
       "  </tbody>\n",
       "</table>\n",
       "</div>"
      ],
      "text/plain": [
       "  Age Group  mean_dist  median_speed\n",
       "0      0-20   0.955864      5.537415\n",
       "1     21-40   1.152396      5.955933\n",
       "2     41-60   1.131682      5.744552\n",
       "3  Above 61   1.077429      5.240677\n",
       "4   Unknown   1.284414      3.782160"
      ]
     },
     "execution_count": 104,
     "metadata": {},
     "output_type": "execute_result"
    }
   ],
   "source": [
    "#group age group by mean distance\n",
    "age_perf_mean_dist1=age_perf_age_dist.groupby('Age Group').mean()\n",
    "age_perf_mean_dist1.reset_index(inplace=True)#reset index\n",
    "\n",
    "#group age group by median speed\n",
    "age_perf_age_speed1=age_perf_age_speed.groupby('Age Group').median()\n",
    "age_perf_age_speed1.reset_index(inplace=True)#reset index\n",
    "\n",
    "#join mean distance and median speed dataframes\n",
    "age_perf_age_dist_med_speed=pd.concat([age_perf_mean_dist1,age_perf_age_speed1['speed_mph']],axis=1) \n",
    "age_perf_age_dist_med_speed.columns=['Age Group','mean_dist','median_speed'] #rename columns\n",
    "age_perf_age_dist_med_speed #check the dataframe"
   ]
  },
  {
   "cell_type": "code",
   "execution_count": 167,
   "metadata": {},
   "outputs": [
    {
     "data": {
      "text/plain": [
       "Text(0.5,0,'Age Groups')"
      ]
     },
     "execution_count": 167,
     "metadata": {},
     "output_type": "execute_result"
    },
    {
     "data": {
      "image/png": "[encoded data removed]",
      "text/plain": [
       "<matplotlib.figure.Figure at 0x1c662d0ba8>"
      ]
     },
     "metadata": {},
     "output_type": "display_data"
    }
   ],
   "source": [
    "#plot age wise mean distance and median speed\n",
    "from matplotlib import rcParams\n",
    "# figure size in inches\n",
    "rcParams['figure.figsize'] = 11.7,4.27\n",
    "a2=age_perf_age_dist_med_speed.plot( kind= 'bar' , secondary_y= 'speed_mph' ,rot=2, x='Age Group',legend=True) #plot grpah\n",
    "a2.set_title('Mean Distance-Median Speed by Age',fontsize=20) #set title\n",
    "a2.set_xlabel('Age Groups',fontsize=20)"
   ]
  },
  {
   "cell_type": "markdown",
   "metadata": {},
   "source": [
    "Mean distance travelled is almost the same for all age groups. Median speed is the highest for ages 21-40 and 41-60 years."
   ]
  },
  {
   "cell_type": "markdown",
   "metadata": {},
   "source": [
    "# Trip duration by user type"
   ]
  },
  {
   "cell_type": "markdown",
   "metadata": {},
   "source": [
    "In this section I have analyzed the trip duration by the user type"
   ]
  },
  {
   "cell_type": "code",
   "execution_count": 107,
   "metadata": {},
   "outputs": [],
   "source": [
    "# query jan data for trip duration and usertype\n",
    "sql13=\"select usertype, sum(tripduration) from 2017_jan2 group by usertype;\"\n",
    "jan_users=pd.read_sql(sql13,db) #store data in the dataframe\n",
    "\n",
    "#query feb data for trip duration and usertype\n",
    "sql14=\"select usertype, sum(tripduration) from 2017_feb2 group by usertype;\"\n",
    "feb_users=pd.read_sql(sql14,db)#store data in the dataframe\n",
    "\n",
    "#query mar data for trip duration and usertype\n",
    "sql15=\"select usertype, sum(tripduration) from 2017_mar2 group by usertype;\"\n",
    "mar_users=pd.read_sql(sql15,db)#store data in the dataframe\n",
    "\n",
    "#query apr data for trip duration and usertype\n",
    "sql16=\"select usertype, sum(tripduration) from 2017_apr2 group by usertype;\"\n",
    "apr_users=pd.read_sql(sql16,db)#store data in the dataframe\n",
    "\n",
    "#query may data for trip duration and usertype\n",
    "sql17=\"select usertype, sum(tripduration) from 2017_may2 group by usertype;\"\n",
    "may_users=pd.read_sql(sql17,db)#store data in the dataframe\n",
    "\n",
    "#query jun data for trip duration and usertype\n",
    "sql18=\"select usertype, sum(tripduration) from 2017_jun2 group by usertype;\"\n",
    "jun_users=pd.read_sql(sql18,db)#store data in the dataframe\n",
    "\n",
    "#query jul data for trip duration and usertype\n",
    "sql19=\"select usertype, sum(tripduration) from 2017_jul2 group by usertype;\"\n",
    "jul_users=pd.read_sql(sql19,db)#store data in the dataframe\n",
    "\n",
    "#query aug data for trip duration and usertype\n",
    "sql20=\"select usertype, sum(tripduration) from 2017_aug2 group by usertype;\"\n",
    "aug_users=pd.read_sql(sql20,db) #store data in the dataframe\n",
    "\n",
    "#query sep data for trip duration and usertype\n",
    "sql21=\"select usertype, sum(tripduration) from 2017_sep2 group by usertype;\"\n",
    "sep_users=pd.read_sql(sql21,db)#store data in the dataframe\n",
    "\n",
    "#query oct data for trip duration and usertype\n",
    "sql22=\"select usertype, sum(tripduration) from 2017_oct2 group by usertype;\"\n",
    "oct_users=pd.read_sql(sql22,db)#store data in the dataframe\n",
    "\n",
    "#query nov data for trip duration and usertype\n",
    "sql23=\"select usertype, sum(tripduration) from 2017_nov2 group by usertype;\"\n",
    "nov_users=pd.read_sql(sql23,db)#store data in the dataframe\n",
    "\n",
    "#query dec data for trip duration and usertype\n",
    "sql24=\"select usertype, sum(tripduration) from 2017_dec2 group by usertype;\"\n",
    "dec_users=pd.read_sql(sql24,db)#store data in the dataframe"
   ]
  },
  {
   "cell_type": "code",
   "execution_count": 109,
   "metadata": {},
   "outputs": [
    {
     "data": {
      "text/html": [
       "<div>\n",
       "<style scoped>\n",
       "    .dataframe tbody tr th:only-of-type {\n",
       "        vertical-align: middle;\n",
       "    }\n",
       "\n",
       "    .dataframe tbody tr th {\n",
       "        vertical-align: top;\n",
       "    }\n",
       "\n",
       "    .dataframe thead th {\n",
       "        text-align: right;\n",
       "    }\n",
       "</style>\n",
       "<table border=\"1\" class=\"dataframe\">\n",
       "  <thead>\n",
       "    <tr style=\"text-align: right;\">\n",
       "      <th></th>\n",
       "      <th>usertype</th>\n",
       "      <th>sum(tripduration)</th>\n",
       "    </tr>\n",
       "  </thead>\n",
       "  <tbody>\n",
       "    <tr>\n",
       "      <th>0</th>\n",
       "      <td>Not Known</td>\n",
       "      <td>4238819.0</td>\n",
       "    </tr>\n",
       "    <tr>\n",
       "      <th>1</th>\n",
       "      <td>Customer</td>\n",
       "      <td>54328749.0</td>\n",
       "    </tr>\n",
       "    <tr>\n",
       "      <th>2</th>\n",
       "      <td>Subscriber</td>\n",
       "      <td>491761665.0</td>\n",
       "    </tr>\n",
       "    <tr>\n",
       "      <th>3</th>\n",
       "      <td>Not Known</td>\n",
       "      <td>10291688.0</td>\n",
       "    </tr>\n",
       "    <tr>\n",
       "      <th>4</th>\n",
       "      <td>Customer</td>\n",
       "      <td>76623751.0</td>\n",
       "    </tr>\n",
       "  </tbody>\n",
       "</table>\n",
       "</div>"
      ],
      "text/plain": [
       "     usertype  sum(tripduration)\n",
       "0   Not Known          4238819.0\n",
       "1    Customer         54328749.0\n",
       "2  Subscriber        491761665.0\n",
       "3   Not Known         10291688.0\n",
       "4    Customer         76623751.0"
      ]
     },
     "execution_count": 109,
     "metadata": {},
     "output_type": "execute_result"
    }
   ],
   "source": [
    "#concatenate all months. Jan-Mar had some missing values for the user types-replaced those with 'Not Known'\n",
    "user_dur=pd.concat([jan_users,feb_users,mar_users,apr_users,may_users,jun_users,jul_users,aug_users,\\\n",
    "                   sep_users,oct_users,nov_users,dec_users],ignore_index=True) #concatenate all months user- trip duration\n",
    "user_dur.replace(to_replace='',value='Not Known',inplace=True) #replace missing user values with not known\n",
    "user_dur.head()#check first few rows of the user trip duration dataframe"
   ]
  },
  {
   "cell_type": "code",
   "execution_count": 110,
   "metadata": {},
   "outputs": [
    {
     "data": {
      "text/html": [
       "<div>\n",
       "<style scoped>\n",
       "    .dataframe tbody tr th:only-of-type {\n",
       "        vertical-align: middle;\n",
       "    }\n",
       "\n",
       "    .dataframe tbody tr th {\n",
       "        vertical-align: top;\n",
       "    }\n",
       "\n",
       "    .dataframe thead th {\n",
       "        text-align: right;\n",
       "    }\n",
       "</style>\n",
       "<table border=\"1\" class=\"dataframe\">\n",
       "  <thead>\n",
       "    <tr style=\"text-align: right;\">\n",
       "      <th></th>\n",
       "      <th>usertype</th>\n",
       "      <th>sum(tripduration)</th>\n",
       "    </tr>\n",
       "  </thead>\n",
       "  <tbody>\n",
       "    <tr>\n",
       "      <th>0</th>\n",
       "      <td>Customer</td>\n",
       "      <td>3.378921e+08</td>\n",
       "    </tr>\n",
       "    <tr>\n",
       "      <th>1</th>\n",
       "      <td>Not Known</td>\n",
       "      <td>7.393136e+06</td>\n",
       "    </tr>\n",
       "    <tr>\n",
       "      <th>2</th>\n",
       "      <td>Subscriber</td>\n",
       "      <td>9.459410e+08</td>\n",
       "    </tr>\n",
       "  </tbody>\n",
       "</table>\n",
       "</div>"
      ],
      "text/plain": [
       "     usertype  sum(tripduration)\n",
       "0    Customer       3.378921e+08\n",
       "1   Not Known       7.393136e+06\n",
       "2  Subscriber       9.459410e+08"
      ]
     },
     "execution_count": 110,
     "metadata": {},
     "output_type": "execute_result"
    }
   ],
   "source": [
    "#group by user type\n",
    "user_dur2=user_dur.groupby('usertype').mean() #get the mean of trip duration by user type\n",
    "user_dur2.reset_index(inplace=True) #replace index\n",
    "user_dur2.head()#data frame"
   ]
  },
  {
   "cell_type": "code",
   "execution_count": 111,
   "metadata": {},
   "outputs": [],
   "source": [
    "#create a column to represent trip duration in hours\n",
    "user_dur2['Trip duration(hours)']=round(user_dur2['sum(tripduration)']/3600) #calculate trip duration in hours\n",
    "user_dur2.columns=['User Type','Mean Trip Duration (seconds)', 'Mean Trip Duration(hours)'] #rename columns\n",
    "#calculate percentage of total duration for each user type\n",
    "user_dur2['%Duration(hours)']=round((user_dur2['Mean Trip Duration(hours)']/sum(user_dur2['Mean Trip Duration(hours)']))*100)"
   ]
  },
  {
   "cell_type": "code",
   "execution_count": 112,
   "metadata": {},
   "outputs": [
    {
     "data": {
      "text/html": [
       "<div>\n",
       "<style scoped>\n",
       "    .dataframe tbody tr th:only-of-type {\n",
       "        vertical-align: middle;\n",
       "    }\n",
       "\n",
       "    .dataframe tbody tr th {\n",
       "        vertical-align: top;\n",
       "    }\n",
       "\n",
       "    .dataframe thead th {\n",
       "        text-align: right;\n",
       "    }\n",
       "</style>\n",
       "<table border=\"1\" class=\"dataframe\">\n",
       "  <thead>\n",
       "    <tr style=\"text-align: right;\">\n",
       "      <th></th>\n",
       "      <th>User Type</th>\n",
       "      <th>Mean Trip Duration (seconds)</th>\n",
       "      <th>Mean Trip Duration(hours)</th>\n",
       "      <th>%Duration(hours)</th>\n",
       "    </tr>\n",
       "  </thead>\n",
       "  <tbody>\n",
       "    <tr>\n",
       "      <th>0</th>\n",
       "      <td>Customer</td>\n",
       "      <td>3.378921e+08</td>\n",
       "      <td>93859.0</td>\n",
       "      <td>26.0</td>\n",
       "    </tr>\n",
       "    <tr>\n",
       "      <th>1</th>\n",
       "      <td>Not Known</td>\n",
       "      <td>7.393136e+06</td>\n",
       "      <td>2054.0</td>\n",
       "      <td>1.0</td>\n",
       "    </tr>\n",
       "    <tr>\n",
       "      <th>2</th>\n",
       "      <td>Subscriber</td>\n",
       "      <td>9.459410e+08</td>\n",
       "      <td>262761.0</td>\n",
       "      <td>73.0</td>\n",
       "    </tr>\n",
       "  </tbody>\n",
       "</table>\n",
       "</div>"
      ],
      "text/plain": [
       "    User Type  Mean Trip Duration (seconds)  Mean Trip Duration(hours)  \\\n",
       "0    Customer                  3.378921e+08                    93859.0   \n",
       "1   Not Known                  7.393136e+06                     2054.0   \n",
       "2  Subscriber                  9.459410e+08                   262761.0   \n",
       "\n",
       "   %Duration(hours)  \n",
       "0              26.0  \n",
       "1               1.0  \n",
       "2              73.0  "
      ]
     },
     "execution_count": 112,
     "metadata": {},
     "output_type": "execute_result"
    }
   ],
   "source": [
    "user_dur2#show the dataframe with mean trip duration in seconds, hours and percentage"
   ]
  },
  {
   "cell_type": "code",
   "execution_count": 116,
   "metadata": {},
   "outputs": [
    {
     "data": {
      "image/png": "[encoded data removed]",
      "text/plain": [
       "<matplotlib.figure.Figure at 0x1ad5a6ec18>"
      ]
     },
     "metadata": {},
     "output_type": "display_data"
    }
   ],
   "source": [
    "#plot trip duration based on user type\n",
    "labels = user_dur2['User Type'] #labels\n",
    "sizes = user_dur2['%Duration(hours)']#size of each slice\n",
    "colors = ['gold', 'yellowgreen', 'lightcoral'] #colors to be used\n",
    "explode = (0, 0, 0.1)  # explode 3rd slice\n",
    "# Plot pie chart\n",
    "fig = plt.figure(figsize=(10,7))#set margins\n",
    "plt.rcParams['font.size'] = 9.0 #font size of the labels\n",
    "plt.pie(sizes,explode=explode, labels=labels, colors=colors,\n",
    "        autopct='%1.1f%%', shadow=True, startangle=0) #plot pie chart\n",
    " \n",
    "plt.axis('equal')\n",
    "plt.title(\"Trip duration by user type\",fontsize=20)\n",
    "plt.show()"
   ]
  },
  {
   "cell_type": "markdown",
   "metadata": {},
   "source": [
    "Subscribers have used the bike the most. They have contributed to 73% of the total travel time which is 262761 hours"
   ]
  },
  {
   "cell_type": "markdown",
   "metadata": {},
   "source": [
    "# Which is the busiest bike in NYC in 2017? How many times was it used? How many minutes was it in use?"
   ]
  },
  {
   "cell_type": "markdown",
   "metadata": {},
   "source": [
    "In this section, I have identified the most frequently used bikes in NYC based on the number of uses and the minutes of usage"
   ]
  },
  {
   "cell_type": "code",
   "execution_count": 117,
   "metadata": {},
   "outputs": [],
   "source": [
    "#query jan bike data for number of uses and trip duration\n",
    "sql25=\"select bikeid, sum(tripduration), count(*) as num_times_used from 2017_jan2 group by bikeid\"\n",
    "jan_bike=pd.read_sql(sql25,db)#store values in a dataframe\n",
    "\n",
    "#query feb bike data for number of uses and trip duration\n",
    "sql26=\"select bikeid, sum(tripduration), count(*) as num_times_used from 2017_feb2 group by bikeid\"\n",
    "feb_bike=pd.read_sql(sql26,db)#store values in a dataframe\n",
    "\n",
    "#query mar bike data for number of uses and trip duration\n",
    "sql27=\"select bikeid, sum(tripduration), count(*) as num_times_used from 2017_mar2 group by bikeid\"\n",
    "mar_bike=pd.read_sql(sql27,db)#store values in a dataframe\n",
    "\n",
    "#query apr bike data for number of uses and trip duration\n",
    "sql28=\"select bikeid, sum(tripduration), count(*) as num_times_used from 2017_apr2 group by bikeid\"\n",
    "apr_bike=pd.read_sql(sql28,db)#store values in a dataframe\n",
    "\n",
    "#query may bike data for number of uses and trip duration\n",
    "sql29=\"select bikeid, sum(tripduration), count(*) as num_times_used from 2017_may2 group by bikeid\"\n",
    "may_bike=pd.read_sql(sql29,db)#store values in a dataframe\n",
    "\n",
    "#query jun bike data for number of uses and trip duration\n",
    "sql30=\"select bikeid, sum(tripduration), count(*) as num_times_used from 2017_jun2 group by bikeid\"\n",
    "jun_bike=pd.read_sql(sql30,db)#store values in a dataframe\n",
    "\n",
    "#query jul bike data for number of uses and trip duration\n",
    "sql31=\"select bikeid, sum(tripduration), count(*) as num_times_used from 2017_jul2 group by bikeid\"\n",
    "jul_bike=pd.read_sql(sql31,db)#store values in a dataframe\n",
    "\n",
    "#query aug bike data for number of uses and trip duration\n",
    "sql32=\"select bikeid, sum(tripduration), count(*) as num_times_used from 2017_aug2 group by bikeid\"\n",
    "aug_bike=pd.read_sql(sql32,db)#store values in a dataframe\n",
    "\n",
    "#query sep bike data for number of uses and trip duration\n",
    "sql33=\"select bikeid, sum(tripduration), count(*) as num_times_used from 2017_sep2 group by bikeid\"\n",
    "sep_bike=pd.read_sql(sql33,db)#store values in a dataframe\n",
    "\n",
    "#query oct bike data for number of uses and trip duration\n",
    "sql34=\"select bikeid, sum(tripduration), count(*) as num_times_used from 2017_oct2 group by bikeid\"\n",
    "oct_bike=pd.read_sql(sql34,db)#store values in a dataframe\n",
    "\n",
    "#query nov bike data for number of uses and trip duration\n",
    "sql35=\"select bikeid, sum(tripduration), count(*) as num_times_used from 2017_nov2 group by bikeid\"\n",
    "nov_bike=pd.read_sql(sql35,db)#store values in a dataframe\n",
    "\n",
    "#query dec bike data for number of uses and trip duration\n",
    "sql36=\"select bikeid, sum(tripduration), count(*) as num_times_used from 2017_dec2 group by bikeid\"\n",
    "dec_bike=pd.read_sql(sql36,db)#store values in a dataframe"
   ]
  },
  {
   "cell_type": "code",
   "execution_count": 118,
   "metadata": {},
   "outputs": [],
   "source": [
    "#concatenate all the months bikes data\n",
    "bike_months=pd.concat([jan_bike,feb_bike,mar_bike,apr_bike,may_bike,jun_bike,jul_bike,aug_bike,sep_bike,\\\n",
    "                      oct_bike,nov_bike,dec_bike],ignore_index=True)"
   ]
  },
  {
   "cell_type": "code",
   "execution_count": 124,
   "metadata": {},
   "outputs": [
    {
     "data": {
      "text/html": [
       "<div>\n",
       "<style scoped>\n",
       "    .dataframe tbody tr th:only-of-type {\n",
       "        vertical-align: middle;\n",
       "    }\n",
       "\n",
       "    .dataframe tbody tr th {\n",
       "        vertical-align: top;\n",
       "    }\n",
       "\n",
       "    .dataframe thead th {\n",
       "        text-align: right;\n",
       "    }\n",
       "</style>\n",
       "<table border=\"1\" class=\"dataframe\">\n",
       "  <thead>\n",
       "    <tr style=\"text-align: right;\">\n",
       "      <th></th>\n",
       "      <th>bikeid</th>\n",
       "      <th>sum(tripduration)</th>\n",
       "      <th>num_times_used</th>\n",
       "    </tr>\n",
       "  </thead>\n",
       "  <tbody>\n",
       "    <tr>\n",
       "      <th>0</th>\n",
       "      <td>14529</td>\n",
       "      <td>60646.0</td>\n",
       "      <td>96</td>\n",
       "    </tr>\n",
       "    <tr>\n",
       "      <th>1</th>\n",
       "      <td>14530</td>\n",
       "      <td>33635.0</td>\n",
       "      <td>54</td>\n",
       "    </tr>\n",
       "    <tr>\n",
       "      <th>2</th>\n",
       "      <td>14531</td>\n",
       "      <td>69781.0</td>\n",
       "      <td>95</td>\n",
       "    </tr>\n",
       "    <tr>\n",
       "      <th>3</th>\n",
       "      <td>14532</td>\n",
       "      <td>38932.0</td>\n",
       "      <td>57</td>\n",
       "    </tr>\n",
       "    <tr>\n",
       "      <th>4</th>\n",
       "      <td>14533</td>\n",
       "      <td>60797.0</td>\n",
       "      <td>93</td>\n",
       "    </tr>\n",
       "  </tbody>\n",
       "</table>\n",
       "</div>"
      ],
      "text/plain": [
       "  bikeid  sum(tripduration)  num_times_used\n",
       "0  14529            60646.0              96\n",
       "1  14530            33635.0              54\n",
       "2  14531            69781.0              95\n",
       "3  14532            38932.0              57\n",
       "4  14533            60797.0              93"
      ]
     },
     "execution_count": 124,
     "metadata": {},
     "output_type": "execute_result"
    }
   ],
   "source": [
    "bike_months.head() #first few rows of the daat frame of all months"
   ]
  },
  {
   "cell_type": "code",
   "execution_count": 130,
   "metadata": {},
   "outputs": [
    {
     "data": {
      "text/html": [
       "<div>\n",
       "<style scoped>\n",
       "    .dataframe tbody tr th:only-of-type {\n",
       "        vertical-align: middle;\n",
       "    }\n",
       "\n",
       "    .dataframe tbody tr th {\n",
       "        vertical-align: top;\n",
       "    }\n",
       "\n",
       "    .dataframe thead th {\n",
       "        text-align: right;\n",
       "    }\n",
       "</style>\n",
       "<table border=\"1\" class=\"dataframe\">\n",
       "  <thead>\n",
       "    <tr style=\"text-align: right;\">\n",
       "      <th></th>\n",
       "      <th>bikeid</th>\n",
       "      <th>sum(tripduration)</th>\n",
       "      <th>num_times_used</th>\n",
       "    </tr>\n",
       "  </thead>\n",
       "  <tbody>\n",
       "    <tr>\n",
       "      <th>0</th>\n",
       "      <td>25738</td>\n",
       "      <td>2388512.0</td>\n",
       "      <td>2445</td>\n",
       "    </tr>\n",
       "    <tr>\n",
       "      <th>1</th>\n",
       "      <td>25275</td>\n",
       "      <td>1996645.0</td>\n",
       "      <td>2358</td>\n",
       "    </tr>\n",
       "    <tr>\n",
       "      <th>2</th>\n",
       "      <td>26565</td>\n",
       "      <td>2002699.0</td>\n",
       "      <td>2291</td>\n",
       "    </tr>\n",
       "    <tr>\n",
       "      <th>3</th>\n",
       "      <td>27161</td>\n",
       "      <td>1865761.0</td>\n",
       "      <td>2276</td>\n",
       "    </tr>\n",
       "    <tr>\n",
       "      <th>4</th>\n",
       "      <td>27117</td>\n",
       "      <td>1780110.0</td>\n",
       "      <td>2264</td>\n",
       "    </tr>\n",
       "  </tbody>\n",
       "</table>\n",
       "</div>"
      ],
      "text/plain": [
       "  bikeid  sum(tripduration)  num_times_used\n",
       "0  25738          2388512.0            2445\n",
       "1  25275          1996645.0            2358\n",
       "2  26565          2002699.0            2291\n",
       "3  27161          1865761.0            2276\n",
       "4  27117          1780110.0            2264"
      ]
     },
     "execution_count": 130,
     "metadata": {},
     "output_type": "execute_result"
    }
   ],
   "source": [
    "#groupby bike id and find mean of number of times used and mean of trip duration and sort by number of times used\n",
    "bike_months2=bike_months.groupby('bikeid').aggregate('sum') #mean of trip duration and num of time used\n",
    "bike_months3=bike_months2.sort_values(by='num_times_used',ascending=False) #sort num of times used by descending order\n",
    "bike_months3.reset_index(inplace=True)#rest index\n",
    "bike_months3.head(5) #first 5 rows of the dataframe containing bike id, number of times used and total tripduration"
   ]
  },
  {
   "cell_type": "code",
   "execution_count": null,
   "metadata": {},
   "outputs": [],
   "source": [
    "#calculate number of minutes of use\n",
    "bike_months3['Trip Duration (minutes)']=round(bike_months3['sum(tripduration)']/60) #conver trip duration to minutes\n",
    "bike_months3.columns=['Bike_Id','Trip_Duration_s','Number_of_times_used','Trip_Duration_minutes'] #rename columns\n",
    "bike_months3['Number_of_times_used']=round(bike_months3['Number_of_times_used']) #round the value of number of times used \n",
    "bike_months4=bike_months3.head(4) #retain top 4 bikes\n",
    "bike_months4.drop(['Trip_Duration_s'],axis=1,inplace=True) #drop trip duration in seconds"
   ]
  },
  {
   "cell_type": "code",
   "execution_count": 132,
   "metadata": {},
   "outputs": [
    {
     "data": {
      "text/html": [
       "<div>\n",
       "<style scoped>\n",
       "    .dataframe tbody tr th:only-of-type {\n",
       "        vertical-align: middle;\n",
       "    }\n",
       "\n",
       "    .dataframe tbody tr th {\n",
       "        vertical-align: top;\n",
       "    }\n",
       "\n",
       "    .dataframe thead th {\n",
       "        text-align: right;\n",
       "    }\n",
       "</style>\n",
       "<table border=\"1\" class=\"dataframe\">\n",
       "  <thead>\n",
       "    <tr style=\"text-align: right;\">\n",
       "      <th></th>\n",
       "      <th>Bike_Id</th>\n",
       "      <th>Number_of_times_used</th>\n",
       "      <th>Trip_Duration_minutes</th>\n",
       "    </tr>\n",
       "  </thead>\n",
       "  <tbody>\n",
       "    <tr>\n",
       "      <th>0</th>\n",
       "      <td>25738</td>\n",
       "      <td>2445</td>\n",
       "      <td>39809.0</td>\n",
       "    </tr>\n",
       "    <tr>\n",
       "      <th>1</th>\n",
       "      <td>25275</td>\n",
       "      <td>2358</td>\n",
       "      <td>33277.0</td>\n",
       "    </tr>\n",
       "    <tr>\n",
       "      <th>2</th>\n",
       "      <td>26565</td>\n",
       "      <td>2291</td>\n",
       "      <td>33378.0</td>\n",
       "    </tr>\n",
       "    <tr>\n",
       "      <th>3</th>\n",
       "      <td>27161</td>\n",
       "      <td>2276</td>\n",
       "      <td>31096.0</td>\n",
       "    </tr>\n",
       "  </tbody>\n",
       "</table>\n",
       "</div>"
      ],
      "text/plain": [
       "  Bike_Id  Number_of_times_used  Trip_Duration_minutes\n",
       "0   25738                  2445                39809.0\n",
       "1   25275                  2358                33277.0\n",
       "2   26565                  2291                33378.0\n",
       "3   27161                  2276                31096.0"
      ]
     },
     "execution_count": 132,
     "metadata": {},
     "output_type": "execute_result"
    }
   ],
   "source": [
    "#check dataframe of the most frequently used bikes with the number of times they were used and the \n",
    "#trip duration in minutes\n",
    "bike_months4 "
   ]
  },
  {
   "cell_type": "code",
   "execution_count": 168,
   "metadata": {},
   "outputs": [
    {
     "data": {
      "text/plain": [
       "Text(0.5,0,'Bike Id')"
      ]
     },
     "execution_count": 168,
     "metadata": {},
     "output_type": "execute_result"
    },
    {
     "data": {
      "image/png": "[encoded data removed]",
      "text/plain": [
       "<matplotlib.figure.Figure at 0x1c667fe748>"
      ]
     },
     "metadata": {},
     "output_type": "display_data"
    }
   ],
   "source": [
    "#plot the most frequently used bikes along with the number of times they were used and trip duration in minutes\n",
    "from matplotlib import rcParams\n",
    "# figure size in inches\n",
    "rcParams['figure.figsize'] = 11.7,7.27\n",
    "b=bike_months4.plot( kind= 'bar' , secondary_y= 'Trip_Duration_minutes' ,rot=2, x='Bike_Id',legend=True)#plot\n",
    "b.set_title('Busiest Bike',fontsize=20)#set title\n",
    "b.set_xlabel('Bike Id',fontsize=20)"
   ]
  },
  {
   "cell_type": "markdown",
   "metadata": {},
   "source": [
    "The busiest bike was the bike \"25738\". It was used 2445 times for 39809 minutes."
   ]
  }
 ],
 "metadata": {
  "kernelspec": {
   "display_name": "Python 3",
   "language": "python",
   "name": "python3"
  },
  "language_info": {
   "codemirror_mode": {
    "name": "ipython",
    "version": 3
   },
   "file_extension": ".py",
   "mimetype": "text/x-python",
   "name": "python",
   "nbconvert_exporter": "python",
   "pygments_lexer": "ipython3",
   "version": "3.7.4"
  }
 },
 "nbformat": 4,
 "nbformat_minor": 2
}
